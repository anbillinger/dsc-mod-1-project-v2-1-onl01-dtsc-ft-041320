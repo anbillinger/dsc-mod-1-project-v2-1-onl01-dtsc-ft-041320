{
 "cells": [
  {
   "cell_type": "markdown",
   "metadata": {},
   "source": [
    "# Number of Writers\n",
    "Does the number of writers have a significant impact on budget or revenue?"
   ]
  },
  {
   "cell_type": "markdown",
   "metadata": {},
   "source": [
    "To answer this question we need the following information: movie titles (IMDB title basics), ID codes for writers (to get number involved on the project, from IMDB title crew), and financial data (TN movie budgets). These datasets were previously combined into TN_budget_and_IMDB.csv so only one dataset needs to be read into the notebook. Rows missing writer information or all types of financial information were dropped, as they would contribute no information to the question posed. A new column was created, which counts how many writer IDs were involved with each movie ID, by splitting around commas and counting the number in the resulting list. (Director numbers were also counted this way, but nearly every movie only had one director, which would not give very useful information).\n",
    "<br><br>\n",
    "Then, budget and worldwide revenue were divided by 1 million for better readability, and then boxplots were created to show the range in both budget and ww revenue for each count of writers. Also, the correlation values were calculated for the dataframe, to get a numeric answer to how strongly correlated they are."
   ]
  },
  {
   "cell_type": "code",
   "execution_count": 100,
   "metadata": {},
   "outputs": [],
   "source": [
    "import pandas as pd\n",
    "import seaborn as sns\n",
    "import numpy as np\n",
    "from pandasql import sqldf\n",
    "import matplotlib.pyplot as plt\n",
    "%matplotlib inline\n",
    "sns.set_context('notebook')"
   ]
  },
  {
   "cell_type": "markdown",
   "metadata": {},
   "source": [
    "IMDB name basics, provides writer and director names"
   ]
  },
  {
   "cell_type": "code",
   "execution_count": 3,
   "metadata": {},
   "outputs": [
    {
     "name": "stdout",
     "output_type": "stream",
     "text": [
      "<class 'pandas.core.frame.DataFrame'>\n",
      "RangeIndex: 606648 entries, 0 to 606647\n",
      "Data columns (total 4 columns):\n",
      "nconst                606648 non-null object\n",
      "primary_name          606648 non-null object\n",
      "primary_profession    555308 non-null object\n",
      "known_for_titles      576444 non-null object\n",
      "dtypes: object(4)\n",
      "memory usage: 18.5+ MB\n"
     ]
    }
   ],
   "source": [
    "#From Erica's data cleaning\n",
    "imdb_name_df = pd.read_csv('zippedData/imdb.name.basics.csv.gz', compression='gzip')\n",
    "imdb_name_df = imdb_name_df.drop(columns=['birth_year', 'death_year']) #Both of these columns are missing ~85%+ values \n",
    "\n",
    "imdb_name_df.info()"
   ]
  },
  {
   "cell_type": "markdown",
   "metadata": {},
   "source": [
    "Import combined/cleaned data set with includes TN budget/gross data, and IMDB movie name, movie ID, directory and writer IDs"
   ]
  },
  {
   "cell_type": "code",
   "execution_count": 15,
   "metadata": {},
   "outputs": [
    {
     "name": "stdout",
     "output_type": "stream",
     "text": [
      "<class 'pandas.core.frame.DataFrame'>\n",
      "Int64Index: 3625 entries, 0 to 3839\n",
      "Data columns (total 8 columns):\n",
      "movie                3625 non-null object\n",
      "genres               3625 non-null object\n",
      "directors            3625 non-null object\n",
      "writers              3625 non-null object\n",
      "production_budget    3625 non-null int64\n",
      "domestic_gross       3625 non-null int64\n",
      "worldwide_gross      3625 non-null int64\n",
      "tconst               3625 non-null object\n",
      "dtypes: int64(3), object(5)\n",
      "memory usage: 254.9+ KB\n"
     ]
    }
   ],
   "source": [
    "df = pd.read_csv('TN_budget_and_IMDB.csv').drop_duplicates('tconst')\n",
    "df.info()"
   ]
  },
  {
   "cell_type": "code",
   "execution_count": 17,
   "metadata": {},
   "outputs": [
    {
     "data": {
      "text/html": [
       "<div>\n",
       "<style scoped>\n",
       "    .dataframe tbody tr th:only-of-type {\n",
       "        vertical-align: middle;\n",
       "    }\n",
       "\n",
       "    .dataframe tbody tr th {\n",
       "        vertical-align: top;\n",
       "    }\n",
       "\n",
       "    .dataframe thead th {\n",
       "        text-align: right;\n",
       "    }\n",
       "</style>\n",
       "<table border=\"1\" class=\"dataframe\">\n",
       "  <thead>\n",
       "    <tr style=\"text-align: right;\">\n",
       "      <th></th>\n",
       "      <th>movie</th>\n",
       "      <th>genres</th>\n",
       "      <th>directors</th>\n",
       "      <th>writers</th>\n",
       "      <th>production_budget</th>\n",
       "      <th>domestic_gross</th>\n",
       "      <th>worldwide_gross</th>\n",
       "      <th>tconst</th>\n",
       "    </tr>\n",
       "  </thead>\n",
       "  <tbody>\n",
       "    <tr>\n",
       "      <td>0</td>\n",
       "      <td>Foodfight!</td>\n",
       "      <td>Action,Animation,Comedy</td>\n",
       "      <td>nm0440415</td>\n",
       "      <td>nm0440415,nm0923312,nm0295165,nm0841854,nm0220297</td>\n",
       "      <td>45000000</td>\n",
       "      <td>0</td>\n",
       "      <td>73706</td>\n",
       "      <td>tt0249516</td>\n",
       "    </tr>\n",
       "    <tr>\n",
       "      <td>1</td>\n",
       "      <td>Mortal Kombat</td>\n",
       "      <td>Action,Adventure,Fantasy</td>\n",
       "      <td>nm2585406</td>\n",
       "      <td>nm3859643</td>\n",
       "      <td>20000000</td>\n",
       "      <td>70433227</td>\n",
       "      <td>122133227</td>\n",
       "      <td>tt0293429</td>\n",
       "    </tr>\n",
       "    <tr>\n",
       "      <td>2</td>\n",
       "      <td>The Overnight</td>\n",
       "      <td>Genre Data Missing</td>\n",
       "      <td>nm1208371</td>\n",
       "      <td>nm1170333,nm1208371</td>\n",
       "      <td>200000</td>\n",
       "      <td>1109808</td>\n",
       "      <td>1165996</td>\n",
       "      <td>tt0326592</td>\n",
       "    </tr>\n",
       "    <tr>\n",
       "      <td>3</td>\n",
       "      <td>On the Road</td>\n",
       "      <td>Adventure,Drama,Romance</td>\n",
       "      <td>nm0758574</td>\n",
       "      <td>nm0449616,nm1433580</td>\n",
       "      <td>25000000</td>\n",
       "      <td>720828</td>\n",
       "      <td>9313302</td>\n",
       "      <td>tt0337692</td>\n",
       "    </tr>\n",
       "    <tr>\n",
       "      <td>4</td>\n",
       "      <td>The Secret Life of Walter Mitty</td>\n",
       "      <td>Adventure,Comedy,Drama</td>\n",
       "      <td>nm0001774</td>\n",
       "      <td>nm0175726,nm0862122</td>\n",
       "      <td>91000000</td>\n",
       "      <td>58236838</td>\n",
       "      <td>187861183</td>\n",
       "      <td>tt0359950</td>\n",
       "    </tr>\n",
       "    <tr>\n",
       "      <td>5</td>\n",
       "      <td>A Walk Among the Tombstones</td>\n",
       "      <td>Action,Crime,Drama</td>\n",
       "      <td>nm0291082</td>\n",
       "      <td>nm0088747,nm0291082</td>\n",
       "      <td>28000000</td>\n",
       "      <td>26017685</td>\n",
       "      <td>62108587</td>\n",
       "      <td>tt0365907</td>\n",
       "    </tr>\n",
       "    <tr>\n",
       "      <td>6</td>\n",
       "      <td>Jurassic World</td>\n",
       "      <td>Action,Adventure,Sci-Fi</td>\n",
       "      <td>nm1119880</td>\n",
       "      <td>nm0415425,nm0798646,nm1119880,nm2081046,nm0000341</td>\n",
       "      <td>215000000</td>\n",
       "      <td>652270625</td>\n",
       "      <td>1648854864</td>\n",
       "      <td>tt0369610</td>\n",
       "    </tr>\n",
       "    <tr>\n",
       "      <td>7</td>\n",
       "      <td>The Rum Diary</td>\n",
       "      <td>Comedy,Drama</td>\n",
       "      <td>nm0732430</td>\n",
       "      <td>nm0732430,nm0860219</td>\n",
       "      <td>45000000</td>\n",
       "      <td>13109815</td>\n",
       "      <td>21544732</td>\n",
       "      <td>tt0376136</td>\n",
       "    </tr>\n",
       "    <tr>\n",
       "      <td>8</td>\n",
       "      <td>The Three Stooges</td>\n",
       "      <td>Comedy,Family</td>\n",
       "      <td>nm0268380,nm0268370</td>\n",
       "      <td>nm0148808,nm0268370,nm0268380</td>\n",
       "      <td>30000000</td>\n",
       "      <td>44338224</td>\n",
       "      <td>54052249</td>\n",
       "      <td>tt0383010</td>\n",
       "    </tr>\n",
       "    <tr>\n",
       "      <td>9</td>\n",
       "      <td>Anderson's Cross</td>\n",
       "      <td>Comedy,Drama,Romance</td>\n",
       "      <td>nm1516329</td>\n",
       "      <td>nm1516329</td>\n",
       "      <td>300000</td>\n",
       "      <td>0</td>\n",
       "      <td>0</td>\n",
       "      <td>tt0393049</td>\n",
       "    </tr>\n",
       "  </tbody>\n",
       "</table>\n",
       "</div>"
      ],
      "text/plain": [
       "                             movie                    genres  \\\n",
       "0                       Foodfight!   Action,Animation,Comedy   \n",
       "1                    Mortal Kombat  Action,Adventure,Fantasy   \n",
       "2                    The Overnight        Genre Data Missing   \n",
       "3                      On the Road   Adventure,Drama,Romance   \n",
       "4  The Secret Life of Walter Mitty    Adventure,Comedy,Drama   \n",
       "5      A Walk Among the Tombstones        Action,Crime,Drama   \n",
       "6                   Jurassic World   Action,Adventure,Sci-Fi   \n",
       "7                    The Rum Diary              Comedy,Drama   \n",
       "8                The Three Stooges             Comedy,Family   \n",
       "9                 Anderson's Cross      Comedy,Drama,Romance   \n",
       "\n",
       "             directors                                            writers  \\\n",
       "0            nm0440415  nm0440415,nm0923312,nm0295165,nm0841854,nm0220297   \n",
       "1            nm2585406                                          nm3859643   \n",
       "2            nm1208371                                nm1170333,nm1208371   \n",
       "3            nm0758574                                nm0449616,nm1433580   \n",
       "4            nm0001774                                nm0175726,nm0862122   \n",
       "5            nm0291082                                nm0088747,nm0291082   \n",
       "6            nm1119880  nm0415425,nm0798646,nm1119880,nm2081046,nm0000341   \n",
       "7            nm0732430                                nm0732430,nm0860219   \n",
       "8  nm0268380,nm0268370                      nm0148808,nm0268370,nm0268380   \n",
       "9            nm1516329                                          nm1516329   \n",
       "\n",
       "   production_budget  domestic_gross  worldwide_gross     tconst  \n",
       "0           45000000               0            73706  tt0249516  \n",
       "1           20000000        70433227        122133227  tt0293429  \n",
       "2             200000         1109808          1165996  tt0326592  \n",
       "3           25000000          720828          9313302  tt0337692  \n",
       "4           91000000        58236838        187861183  tt0359950  \n",
       "5           28000000        26017685         62108587  tt0365907  \n",
       "6          215000000       652270625       1648854864  tt0369610  \n",
       "7           45000000        13109815         21544732  tt0376136  \n",
       "8           30000000        44338224         54052249  tt0383010  \n",
       "9             300000               0                0  tt0393049  "
      ]
     },
     "execution_count": 17,
     "metadata": {},
     "output_type": "execute_result"
    }
   ],
   "source": [
    "df.head(10)"
   ]
  },
  {
   "cell_type": "markdown",
   "metadata": {},
   "source": [
    "Get numeric count of writers and directors who worked on each movie"
   ]
  },
  {
   "cell_type": "code",
   "execution_count": 46,
   "metadata": {},
   "outputs": [],
   "source": [
    "df['num_writers'] = df['writers'].apply(lambda x:len(x.split(',')))\n",
    "df['num_directors'] = df['directors'].apply(lambda x:len(x.split(',')))"
   ]
  },
  {
   "cell_type": "code",
   "execution_count": 49,
   "metadata": {},
   "outputs": [
    {
     "data": {
      "text/plain": [
       "1     1791\n",
       "2      971\n",
       "3      451\n",
       "4      210\n",
       "5       99\n",
       "6       42\n",
       "7       18\n",
       "9       13\n",
       "8       13\n",
       "10       9\n",
       "11       3\n",
       "25       1\n",
       "13       1\n",
       "20       1\n",
       "14       1\n",
       "12       1\n",
       "Name: num_writers, dtype: int64"
      ]
     },
     "execution_count": 49,
     "metadata": {},
     "output_type": "execute_result"
    }
   ],
   "source": [
    "df['num_writers'].value_counts()"
   ]
  },
  {
   "cell_type": "code",
   "execution_count": 104,
   "metadata": {},
   "outputs": [],
   "source": [
    "#Divide monetary values by 1 million, for easier visualization\n",
    "\n",
    "df['production_budget'] = df['production_budget'].apply(lambda x:x/1000000)\n",
    "df['worldwide_gross'] = df['worldwide_gross'].apply(lambda x:x/1000000)"
   ]
  },
  {
   "cell_type": "code",
   "execution_count": 113,
   "metadata": {
    "scrolled": false
   },
   "outputs": [
    {
     "data": {
      "text/plain": [
       "[Text(0, 0.5, 'Number of Writers'),\n",
       " Text(0.5, 0, 'Production Budget (in Millions)'),\n",
       " Text(0.5, 1.0, 'Number of Writers vs Cost')]"
      ]
     },
     "execution_count": 113,
     "metadata": {},
     "output_type": "execute_result"
    },
    {
     "data": {
      "image/png": "[encoded data removed]",
      "text/plain": [
       "<Figure size 432x432 with 1 Axes>"
      ]
     },
     "metadata": {
      "needs_background": "light"
     },
     "output_type": "display_data"
    }
   ],
   "source": [
    "plt.figure(figsize=(6,6))\n",
    "ax = sns.boxplot(x='production_budget',y='num_writers',data=df.query('num_writers<11 & production_budget<380'),orient = 'h')\n",
    "ax.set(ylabel='Number of Writers',xlabel='Production Budget (in Millions)',title='Number of Writers vs Cost')"
   ]
  },
  {
   "cell_type": "code",
   "execution_count": 112,
   "metadata": {},
   "outputs": [
    {
     "data": {
      "text/plain": [
       "[Text(0, 0.5, 'Number of Writers'),\n",
       " Text(0.5, 0, 'Worldwide Gross (in Millions)'),\n",
       " Text(0.5, 1.0, 'Number of Writers vs Revenue')]"
      ]
     },
     "execution_count": 112,
     "metadata": {},
     "output_type": "execute_result"
    },
    {
     "data": {
      "image/png": "[encoded data removed]",
      "text/plain": [
       "<Figure size 432x432 with 1 Axes>"
      ]
     },
     "metadata": {
      "needs_background": "light"
     },
     "output_type": "display_data"
    }
   ],
   "source": [
    "plt.figure(figsize=(6,6))\n",
    "ax = sns.boxplot(x='worldwide_gross',y='num_writers',data=df.query('num_writers<11 & worldwide_gross<1250'),orient='h')\n",
    "ax.set(ylabel='Number of Writers',xlabel='Worldwide Gross (in Millions)',title='Number of Writers vs Revenue')"
   ]
  },
  {
   "cell_type": "code",
   "execution_count": 75,
   "metadata": {},
   "outputs": [
    {
     "data": {
      "text/html": [
       "<div>\n",
       "<style scoped>\n",
       "    .dataframe tbody tr th:only-of-type {\n",
       "        vertical-align: middle;\n",
       "    }\n",
       "\n",
       "    .dataframe tbody tr th {\n",
       "        vertical-align: top;\n",
       "    }\n",
       "\n",
       "    .dataframe thead th {\n",
       "        text-align: right;\n",
       "    }\n",
       "</style>\n",
       "<table border=\"1\" class=\"dataframe\">\n",
       "  <thead>\n",
       "    <tr style=\"text-align: right;\">\n",
       "      <th></th>\n",
       "      <th>production_budget</th>\n",
       "      <th>domestic_gross</th>\n",
       "      <th>worldwide_gross</th>\n",
       "      <th>num_writers</th>\n",
       "      <th>num_directors</th>\n",
       "    </tr>\n",
       "  </thead>\n",
       "  <tbody>\n",
       "    <tr>\n",
       "      <td>production_budget</td>\n",
       "      <td>1.000000</td>\n",
       "      <td>0.721550</td>\n",
       "      <td>0.771622</td>\n",
       "      <td>0.317620</td>\n",
       "      <td>0.014774</td>\n",
       "    </tr>\n",
       "    <tr>\n",
       "      <td>domestic_gross</td>\n",
       "      <td>0.721550</td>\n",
       "      <td>1.000000</td>\n",
       "      <td>0.949492</td>\n",
       "      <td>0.266695</td>\n",
       "      <td>0.036130</td>\n",
       "    </tr>\n",
       "    <tr>\n",
       "      <td>worldwide_gross</td>\n",
       "      <td>0.771622</td>\n",
       "      <td>0.949492</td>\n",
       "      <td>1.000000</td>\n",
       "      <td>0.280309</td>\n",
       "      <td>0.043281</td>\n",
       "    </tr>\n",
       "    <tr>\n",
       "      <td>num_writers</td>\n",
       "      <td>0.317620</td>\n",
       "      <td>0.266695</td>\n",
       "      <td>0.280309</td>\n",
       "      <td>1.000000</td>\n",
       "      <td>0.240984</td>\n",
       "    </tr>\n",
       "    <tr>\n",
       "      <td>num_directors</td>\n",
       "      <td>0.014774</td>\n",
       "      <td>0.036130</td>\n",
       "      <td>0.043281</td>\n",
       "      <td>0.240984</td>\n",
       "      <td>1.000000</td>\n",
       "    </tr>\n",
       "  </tbody>\n",
       "</table>\n",
       "</div>"
      ],
      "text/plain": [
       "                   production_budget  domestic_gross  worldwide_gross  \\\n",
       "production_budget           1.000000        0.721550         0.771622   \n",
       "domestic_gross              0.721550        1.000000         0.949492   \n",
       "worldwide_gross             0.771622        0.949492         1.000000   \n",
       "num_writers                 0.317620        0.266695         0.280309   \n",
       "num_directors               0.014774        0.036130         0.043281   \n",
       "\n",
       "                   num_writers  num_directors  \n",
       "production_budget     0.317620       0.014774  \n",
       "domestic_gross        0.266695       0.036130  \n",
       "worldwide_gross       0.280309       0.043281  \n",
       "num_writers           1.000000       0.240984  \n",
       "num_directors         0.240984       1.000000  "
      ]
     },
     "execution_count": 75,
     "metadata": {},
     "output_type": "execute_result"
    }
   ],
   "source": [
    "df.corr()"
   ]
  },
  {
   "cell_type": "markdown",
   "metadata": {},
   "source": [
    "Interesting correlation coefficient:\n",
    "- number writers x production budget: 0.31762\n",
    "- number writers x domestic gross/worldwide gross: 0.266695/0.280309\n",
    "- production budget x d gross/ww gross: 0.721550/0.771622"
   ]
  },
  {
   "cell_type": "code",
   "execution_count": null,
   "metadata": {},
   "outputs": [],
   "source": []
  }
 ],
 "metadata": {
  "kernelspec": {
   "display_name": "Python [conda env:learn-env] *",
   "language": "python",
   "name": "conda-env-learn-env-py"
  },
  "language_info": {
   "codemirror_mode": {
    "name": "ipython",
    "version": 3
   },
   "file_extension": ".py",
   "mimetype": "text/x-python",
   "name": "python",
   "nbconvert_exporter": "python",
   "pygments_lexer": "ipython3",
   "version": "3.6.9"
  }
 },
 "nbformat": 4,
 "nbformat_minor": 2
}
