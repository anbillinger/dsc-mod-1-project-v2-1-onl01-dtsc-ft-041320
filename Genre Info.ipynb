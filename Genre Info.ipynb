{
 "cells": [
  {
   "cell_type": "markdown",
   "metadata": {},
   "source": [
    "# How does genre factor into Movie Success\n",
    "- Also, does genre/success depend on domestic vs abroad?"
   ]
  },
  {
   "cell_type": "markdown",
   "metadata": {},
   "source": [
    "What datasets will this need?\n",
    "- IMDB title basics for Genre Info\n",
    "- TN Movie Budgets for domestic and worldwide gross"
   ]
  },
  {
   "cell_type": "code",
   "execution_count": 1,
   "metadata": {},
   "outputs": [
    {
     "name": "stdout",
     "output_type": "stream",
     "text": [
      "<class 'pandas.core.frame.DataFrame'>\n",
      "RangeIndex: 146144 entries, 0 to 146143\n",
      "Data columns (total 6 columns):\n",
      "tconst             146144 non-null object\n",
      "primary_title      146144 non-null object\n",
      "original_title     146144 non-null object\n",
      "start_year         146144 non-null int64\n",
      "runtime_minutes    146144 non-null float64\n",
      "genres             146144 non-null object\n",
      "dtypes: float64(1), int64(1), object(4)\n",
      "memory usage: 6.7+ MB\n",
      "None\n",
      "<class 'pandas.core.frame.DataFrame'>\n",
      "RangeIndex: 5782 entries, 0 to 5781\n",
      "Data columns (total 6 columns):\n",
      "id                   5782 non-null int64\n",
      "release_date         5782 non-null object\n",
      "movie                5782 non-null object\n",
      "production_budget    5782 non-null int64\n",
      "domestic_gross       5782 non-null int64\n",
      "worldwide_gross      5782 non-null int64\n",
      "dtypes: int64(4), object(2)\n",
      "memory usage: 271.2+ KB\n",
      "None\n"
     ]
    }
   ],
   "source": [
    "import pandas as pd\n",
    "import seaborn as sns\n",
    "import numpy as np\n",
    "\n",
    "#datasets to dataframes\n",
    "imdb_basics_df = pd.read_csv('zippedData\\imdb.title.basics.csv.gz')\n",
    "tn_budgets_df = pd.read_csv('zippedData/tn.movie_budgets.csv.gz')\n",
    "\n",
    "\n",
    "#Clean IMDB basics runtime_minutes\n",
    "imdb_basics_df['runtime_minutes'].fillna(imdb_basics_df['runtime_minutes'].median(),inplace=True)\n",
    "#Clean IMDB basics genres\n",
    "imdb_basics_df['genres'].fillna('Genre Data Missing',inplace = True)\n",
    "#Clean IMDB basics original_title\n",
    "imdb_basics_df['original_title'].fillna(imdb_basics_df['primary_title'],inplace = True)\n",
    "\n",
    "print(imdb_basics_df.info())\n",
    "\n",
    "money_list = ['production_budget','domestic_gross','worldwide_gross']\n",
    "for ser in money_list:\n",
    "    tn_budgets_df[ser] = tn_budgets_df[ser].apply(lambda x:x.replace(',',''))\n",
    "    tn_budgets_df[ser] = tn_budgets_df[ser].apply(lambda x:x.replace('$',''))\n",
    "    tn_budgets_df[ser] = pd.to_numeric(tn_budgets_df[ser])\n",
    "\n",
    "print(tn_budgets_df.info())"
   ]
  },
  {
   "cell_type": "markdown",
   "metadata": {},
   "source": [
    "Next question: How to combine datasets\n",
    "- no id column in common\n",
    "- TN: 'movie' has movie name\n",
    "- IMDB basics: 'primary_title' (might also be worth comparing 'original_title')\n",
    "- Original title does match in some cases Primary does not, added or clause\n",
    "- Warning: cell below takes a *long* time to run."
   ]
  },
  {
   "cell_type": "code",
   "execution_count": 17,
   "metadata": {},
   "outputs": [
    {
     "data": {
      "text/html": [
       "<div>\n",
       "<style scoped>\n",
       "    .dataframe tbody tr th:only-of-type {\n",
       "        vertical-align: middle;\n",
       "    }\n",
       "\n",
       "    .dataframe tbody tr th {\n",
       "        vertical-align: top;\n",
       "    }\n",
       "\n",
       "    .dataframe thead th {\n",
       "        text-align: right;\n",
       "    }\n",
       "</style>\n",
       "<table border=\"1\" class=\"dataframe\">\n",
       "  <thead>\n",
       "    <tr style=\"text-align: right;\">\n",
       "      <th></th>\n",
       "      <th>primary_title</th>\n",
       "      <th>genres</th>\n",
       "      <th>domestic_gross</th>\n",
       "      <th>worldwide_gross</th>\n",
       "      <th>tconst</th>\n",
       "    </tr>\n",
       "  </thead>\n",
       "  <tbody>\n",
       "    <tr>\n",
       "      <td>0</td>\n",
       "      <td>Foodfight!</td>\n",
       "      <td>Action,Animation,Comedy</td>\n",
       "      <td>0</td>\n",
       "      <td>73706</td>\n",
       "      <td>tt0249516</td>\n",
       "    </tr>\n",
       "    <tr>\n",
       "      <td>1</td>\n",
       "      <td>Mortal Kombat</td>\n",
       "      <td>Action,Adventure,Fantasy</td>\n",
       "      <td>70433227</td>\n",
       "      <td>122133227</td>\n",
       "      <td>tt0293429</td>\n",
       "    </tr>\n",
       "    <tr>\n",
       "      <td>2</td>\n",
       "      <td>On the Road</td>\n",
       "      <td>Adventure,Drama,Romance</td>\n",
       "      <td>720828</td>\n",
       "      <td>9313302</td>\n",
       "      <td>tt0337692</td>\n",
       "    </tr>\n",
       "    <tr>\n",
       "      <td>3</td>\n",
       "      <td>The Secret Life of Walter Mitty</td>\n",
       "      <td>Adventure,Comedy,Drama</td>\n",
       "      <td>58236838</td>\n",
       "      <td>187861183</td>\n",
       "      <td>tt0359950</td>\n",
       "    </tr>\n",
       "    <tr>\n",
       "      <td>4</td>\n",
       "      <td>A Walk Among the Tombstones</td>\n",
       "      <td>Action,Crime,Drama</td>\n",
       "      <td>26017685</td>\n",
       "      <td>62108587</td>\n",
       "      <td>tt0365907</td>\n",
       "    </tr>\n",
       "    <tr>\n",
       "      <td>...</td>\n",
       "      <td>...</td>\n",
       "      <td>...</td>\n",
       "      <td>...</td>\n",
       "      <td>...</td>\n",
       "      <td>...</td>\n",
       "    </tr>\n",
       "    <tr>\n",
       "      <td>3455</td>\n",
       "      <td>Sisters</td>\n",
       "      <td>Action,Drama</td>\n",
       "      <td>87044645</td>\n",
       "      <td>106030660</td>\n",
       "      <td>tt9851050</td>\n",
       "    </tr>\n",
       "    <tr>\n",
       "      <td>3456</td>\n",
       "      <td>Ali</td>\n",
       "      <td>Drama</td>\n",
       "      <td>58183966</td>\n",
       "      <td>87683966</td>\n",
       "      <td>tt9861522</td>\n",
       "    </tr>\n",
       "    <tr>\n",
       "      <td>3457</td>\n",
       "      <td>The Promise</td>\n",
       "      <td>Drama</td>\n",
       "      <td>8224288</td>\n",
       "      <td>10551417</td>\n",
       "      <td>tt9889072</td>\n",
       "    </tr>\n",
       "    <tr>\n",
       "      <td>3458</td>\n",
       "      <td>Columbus</td>\n",
       "      <td>Comedy</td>\n",
       "      <td>1017107</td>\n",
       "      <td>1110511</td>\n",
       "      <td>tt9899880</td>\n",
       "    </tr>\n",
       "    <tr>\n",
       "      <td>3459</td>\n",
       "      <td>Unstoppable</td>\n",
       "      <td>Documentary</td>\n",
       "      <td>81562942</td>\n",
       "      <td>165720921</td>\n",
       "      <td>tt9906218</td>\n",
       "    </tr>\n",
       "  </tbody>\n",
       "</table>\n",
       "<p>3460 rows × 5 columns</p>\n",
       "</div>"
      ],
      "text/plain": [
       "                        primary_title                    genres  \\\n",
       "0                          Foodfight!   Action,Animation,Comedy   \n",
       "1                       Mortal Kombat  Action,Adventure,Fantasy   \n",
       "2                         On the Road   Adventure,Drama,Romance   \n",
       "3     The Secret Life of Walter Mitty    Adventure,Comedy,Drama   \n",
       "4         A Walk Among the Tombstones        Action,Crime,Drama   \n",
       "...                               ...                       ...   \n",
       "3455                          Sisters              Action,Drama   \n",
       "3456                              Ali                     Drama   \n",
       "3457                      The Promise                     Drama   \n",
       "3458                         Columbus                    Comedy   \n",
       "3459                      Unstoppable               Documentary   \n",
       "\n",
       "      domestic_gross  worldwide_gross     tconst  \n",
       "0                  0            73706  tt0249516  \n",
       "1           70433227        122133227  tt0293429  \n",
       "2             720828          9313302  tt0337692  \n",
       "3           58236838        187861183  tt0359950  \n",
       "4           26017685         62108587  tt0365907  \n",
       "...              ...              ...        ...  \n",
       "3455        87044645        106030660  tt9851050  \n",
       "3456        58183966         87683966  tt9861522  \n",
       "3457         8224288         10551417  tt9889072  \n",
       "3458         1017107          1110511  tt9899880  \n",
       "3459        81562942        165720921  tt9906218  \n",
       "\n",
       "[3460 rows x 5 columns]"
      ]
     },
     "execution_count": 17,
     "metadata": {},
     "output_type": "execute_result"
    }
   ],
   "source": [
    "from pandasql import sqldf\n",
    "q = \"\"\"SELECT primary_title, genres, domestic_gross, worldwide_gross, tconst\n",
    "        FROM imdb_basics_df imdb\n",
    "        JOIN tn_budgets_df tn\n",
    "        ON (imdb.primary_title = tn.movie OR imdb.original_title = tn.movie)\n",
    "        WHERE (domestic_gross >0 OR worldwide_gross > 0) AND genres != \"Genre Data Missing\";\"\"\"\n",
    "\n",
    "results = sqldf(q)\n",
    "results"
   ]
  },
  {
   "cell_type": "code",
   "execution_count": 27,
   "metadata": {},
   "outputs": [
    {
     "data": {
      "text/plain": [
       "Drama                         450\n",
       "Documentary                   265\n",
       "Comedy                        127\n",
       "Comedy,Drama                   95\n",
       "Drama,Romance                  88\n",
       "Horror                         85\n",
       "Comedy,Drama,Romance           79\n",
       "Adventure,Animation,Comedy     75\n",
       "Thriller                       71\n",
       "Action,Crime,Drama             58\n",
       "Name: genres, dtype: int64"
      ]
     },
     "execution_count": 27,
     "metadata": {},
     "output_type": "execute_result"
    }
   ],
   "source": [
    "results['genres'].value_counts().head(10)"
   ]
  },
  {
   "cell_type": "code",
   "execution_count": 60,
   "metadata": {},
   "outputs": [
    {
     "data": {
      "text/html": [
       "<div>\n",
       "<style scoped>\n",
       "    .dataframe tbody tr th:only-of-type {\n",
       "        vertical-align: middle;\n",
       "    }\n",
       "\n",
       "    .dataframe tbody tr th {\n",
       "        vertical-align: top;\n",
       "    }\n",
       "\n",
       "    .dataframe thead th {\n",
       "        text-align: right;\n",
       "    }\n",
       "</style>\n",
       "<table border=\"1\" class=\"dataframe\">\n",
       "  <thead>\n",
       "    <tr style=\"text-align: right;\">\n",
       "      <th></th>\n",
       "      <th>domestic_gross</th>\n",
       "      <th>worldwide_gross</th>\n",
       "    </tr>\n",
       "  </thead>\n",
       "  <tbody>\n",
       "    <tr>\n",
       "      <td>count</td>\n",
       "      <td>3.460000e+03</td>\n",
       "      <td>3.460000e+03</td>\n",
       "    </tr>\n",
       "    <tr>\n",
       "      <td>mean</td>\n",
       "      <td>4.391563e+07</td>\n",
       "      <td>1.028167e+08</td>\n",
       "    </tr>\n",
       "    <tr>\n",
       "      <td>std</td>\n",
       "      <td>7.299745e+07</td>\n",
       "      <td>1.977592e+08</td>\n",
       "    </tr>\n",
       "    <tr>\n",
       "      <td>min</td>\n",
       "      <td>0.000000e+00</td>\n",
       "      <td>2.600000e+01</td>\n",
       "    </tr>\n",
       "    <tr>\n",
       "      <td>25%</td>\n",
       "      <td>1.758242e+06</td>\n",
       "      <td>5.953886e+06</td>\n",
       "    </tr>\n",
       "    <tr>\n",
       "      <td>50%</td>\n",
       "      <td>1.920505e+07</td>\n",
       "      <td>3.452113e+07</td>\n",
       "    </tr>\n",
       "    <tr>\n",
       "      <td>75%</td>\n",
       "      <td>5.259761e+07</td>\n",
       "      <td>1.012246e+08</td>\n",
       "    </tr>\n",
       "    <tr>\n",
       "      <td>max</td>\n",
       "      <td>7.605076e+08</td>\n",
       "      <td>2.776345e+09</td>\n",
       "    </tr>\n",
       "  </tbody>\n",
       "</table>\n",
       "</div>"
      ],
      "text/plain": [
       "       domestic_gross  worldwide_gross\n",
       "count    3.460000e+03     3.460000e+03\n",
       "mean     4.391563e+07     1.028167e+08\n",
       "std      7.299745e+07     1.977592e+08\n",
       "min      0.000000e+00     2.600000e+01\n",
       "25%      1.758242e+06     5.953886e+06\n",
       "50%      1.920505e+07     3.452113e+07\n",
       "75%      5.259761e+07     1.012246e+08\n",
       "max      7.605076e+08     2.776345e+09"
      ]
     },
     "execution_count": 60,
     "metadata": {},
     "output_type": "execute_result"
    }
   ],
   "source": [
    "results.describe()"
   ]
  },
  {
   "cell_type": "markdown",
   "metadata": {},
   "source": [
    "Often, movies belong to more than one genre. For the purposes of our data, each movie will count towards every individual genre it belongs to (so Action,Crime,Drama will contribute to Action and Crime and Drama)"
   ]
  },
  {
   "cell_type": "code",
   "execution_count": 38,
   "metadata": {},
   "outputs": [
    {
     "data": {
      "text/html": [
       "<div>\n",
       "<style scoped>\n",
       "    .dataframe tbody tr th:only-of-type {\n",
       "        vertical-align: middle;\n",
       "    }\n",
       "\n",
       "    .dataframe tbody tr th {\n",
       "        vertical-align: top;\n",
       "    }\n",
       "\n",
       "    .dataframe thead th {\n",
       "        text-align: right;\n",
       "    }\n",
       "</style>\n",
       "<table border=\"1\" class=\"dataframe\">\n",
       "  <thead>\n",
       "    <tr style=\"text-align: right;\">\n",
       "      <th></th>\n",
       "      <th>primary_title</th>\n",
       "      <th>genre</th>\n",
       "      <th>domestic_gross</th>\n",
       "      <th>worldwide_gross</th>\n",
       "    </tr>\n",
       "  </thead>\n",
       "  <tbody>\n",
       "    <tr>\n",
       "      <td>0</td>\n",
       "      <td>Foodfight!</td>\n",
       "      <td>Action</td>\n",
       "      <td>0</td>\n",
       "      <td>73706</td>\n",
       "    </tr>\n",
       "    <tr>\n",
       "      <td>1</td>\n",
       "      <td>Foodfight!</td>\n",
       "      <td>Animation</td>\n",
       "      <td>0</td>\n",
       "      <td>73706</td>\n",
       "    </tr>\n",
       "    <tr>\n",
       "      <td>2</td>\n",
       "      <td>Foodfight!</td>\n",
       "      <td>Comedy</td>\n",
       "      <td>0</td>\n",
       "      <td>73706</td>\n",
       "    </tr>\n",
       "    <tr>\n",
       "      <td>3</td>\n",
       "      <td>Mortal Kombat</td>\n",
       "      <td>Action</td>\n",
       "      <td>70433227</td>\n",
       "      <td>122133227</td>\n",
       "    </tr>\n",
       "    <tr>\n",
       "      <td>4</td>\n",
       "      <td>Mortal Kombat</td>\n",
       "      <td>Adventure</td>\n",
       "      <td>70433227</td>\n",
       "      <td>122133227</td>\n",
       "    </tr>\n",
       "    <tr>\n",
       "      <td>...</td>\n",
       "      <td>...</td>\n",
       "      <td>...</td>\n",
       "      <td>...</td>\n",
       "      <td>...</td>\n",
       "    </tr>\n",
       "    <tr>\n",
       "      <td>7915</td>\n",
       "      <td>Sisters</td>\n",
       "      <td>Drama</td>\n",
       "      <td>87044645</td>\n",
       "      <td>106030660</td>\n",
       "    </tr>\n",
       "    <tr>\n",
       "      <td>7916</td>\n",
       "      <td>Ali</td>\n",
       "      <td>Drama</td>\n",
       "      <td>58183966</td>\n",
       "      <td>87683966</td>\n",
       "    </tr>\n",
       "    <tr>\n",
       "      <td>7917</td>\n",
       "      <td>The Promise</td>\n",
       "      <td>Drama</td>\n",
       "      <td>8224288</td>\n",
       "      <td>10551417</td>\n",
       "    </tr>\n",
       "    <tr>\n",
       "      <td>7918</td>\n",
       "      <td>Columbus</td>\n",
       "      <td>Comedy</td>\n",
       "      <td>1017107</td>\n",
       "      <td>1110511</td>\n",
       "    </tr>\n",
       "    <tr>\n",
       "      <td>7919</td>\n",
       "      <td>Unstoppable</td>\n",
       "      <td>Documentary</td>\n",
       "      <td>81562942</td>\n",
       "      <td>165720921</td>\n",
       "    </tr>\n",
       "  </tbody>\n",
       "</table>\n",
       "<p>7920 rows × 4 columns</p>\n",
       "</div>"
      ],
      "text/plain": [
       "      primary_title        genre  domestic_gross  worldwide_gross\n",
       "0        Foodfight!       Action               0            73706\n",
       "1        Foodfight!    Animation               0            73706\n",
       "2        Foodfight!       Comedy               0            73706\n",
       "3     Mortal Kombat       Action        70433227        122133227\n",
       "4     Mortal Kombat    Adventure        70433227        122133227\n",
       "...             ...          ...             ...              ...\n",
       "7915        Sisters        Drama        87044645        106030660\n",
       "7916            Ali        Drama        58183966         87683966\n",
       "7917    The Promise        Drama         8224288         10551417\n",
       "7918       Columbus       Comedy         1017107          1110511\n",
       "7919    Unstoppable  Documentary        81562942        165720921\n",
       "\n",
       "[7920 rows x 4 columns]"
      ]
     },
     "execution_count": 38,
     "metadata": {},
     "output_type": "execute_result"
    }
   ],
   "source": [
    "new_df = pd.DataFrame(results.genres.str.split(',').tolist(), index=results.tconst).stack()\n",
    "new_df = new_df.reset_index([0, 'tconst'])\n",
    "new_df.columns = ['tconst','genre']\n",
    "#new_df\n",
    "\n",
    "q = \"\"\"SELECT primary_title, genre, domestic_gross, worldwide_gross\n",
    "    FROM results\n",
    "    JOIN new_df\n",
    "    USING(tconst);\"\"\"\n",
    "\n",
    "genres_df = sqldf(q)\n",
    "genres_df"
   ]
  },
  {
   "cell_type": "code",
   "execution_count": 114,
   "metadata": {},
   "outputs": [],
   "source": [
    "#grouped by genre, median is probably more accurate to actual results\n",
    "#But I would be interested to see median vs mean\n",
    "#Is max the same in median and mean? Is there a genre where outliers are more extreme?\n",
    "groupedavg = genres_df.groupby('genre').mean()\n",
    "groupedmed = genres_df.groupby('genre').median()"
   ]
  },
  {
   "cell_type": "markdown",
   "metadata": {},
   "source": [
    "# Next question:\n",
    "- have plottable data for mean and median, both domestic and worldwide\n",
    "- Should pick between mean and median. Probably median, cause strong right skew.\n",
    "- Does mean vs median vary by genre? Do some have more outliers?\n",
    "- Overthinking: point isn't to cover every possible variable, but to get useful, actionable info\n",
    "- Focus on question: what genre is most profitable, so focus on median"
   ]
  },
  {
   "cell_type": "code",
   "execution_count": 107,
   "metadata": {},
   "outputs": [],
   "source": [
    "groupedavg.columns = ['genre','dom_avg','ww_avg']\n",
    "groupedmed.columns = ['genre','dom_med','ww_med']\n",
    "q = \"\"\"SELECT *\n",
    "    FROM groupedavg\n",
    "    JOIN groupedmed\n",
    "    USING(genre);\"\"\"\n",
    "\n",
    "groupedall = sqldf(q)"
   ]
  },
  {
   "cell_type": "code",
   "execution_count": 115,
   "metadata": {},
   "outputs": [
    {
     "data": {
      "text/plain": [
       "<matplotlib.axes._subplots.AxesSubplot at 0x2919b0af780>"
      ]
     },
     "execution_count": 115,
     "metadata": {},
     "output_type": "execute_result"
    },
    {
     "data": {
      "image/png": "[encoded data removed]",
      "text/plain": [
       "<Figure size 432x288 with 1 Axes>"
      ]
     },
     "metadata": {
      "needs_background": "light"
     },
     "output_type": "display_data"
    }
   ],
   "source": [
    "sns.scatterplot(data = groupedavg)"
   ]
  },
  {
   "cell_type": "code",
   "execution_count": 116,
   "metadata": {},
   "outputs": [
    {
     "data": {
      "text/plain": [
       "<matplotlib.axes._subplots.AxesSubplot at 0x2919c8953c8>"
      ]
     },
     "execution_count": 116,
     "metadata": {},
     "output_type": "execute_result"
    },
    {
     "data": {
      "image/png": "[encoded data removed]",
      "text/plain": [
       "<Figure size 432x288 with 1 Axes>"
      ]
     },
     "metadata": {
      "needs_background": "light"
     },
     "output_type": "display_data"
    }
   ],
   "source": [
    "sns.scatterplot(data = groupedmed)"
   ]
  },
  {
   "cell_type": "code",
   "execution_count": 170,
   "metadata": {},
   "outputs": [],
   "source": [
    "dom_gross = groupedmed.sort_values('domestic_gross',ascending=False).head(9)\n",
    "dom_gross['domestic_gross'] = dom_gross['domestic_gross'].map(lambda x:x/dom_gross['domestic_gross'].max())"
   ]
  },
  {
   "cell_type": "code",
   "execution_count": 174,
   "metadata": {},
   "outputs": [],
   "source": [
    "ww_gross = groupedmed.sort_values('worldwide_gross',ascending=False).head(9)\n",
    "ww_gross['worldwide_gross'] = ww_gross['worldwide_gross'].map(lambda x:x/ww_gross['worldwide_gross'].max())"
   ]
  },
  {
   "cell_type": "code",
   "execution_count": 171,
   "metadata": {},
   "outputs": [
    {
     "data": {
      "text/plain": [
       "<matplotlib.axes._subplots.AxesSubplot at 0x2919d8566a0>"
      ]
     },
     "execution_count": 171,
     "metadata": {},
     "output_type": "execute_result"
    },
    {
     "data": {
      "image/png": "[encoded data removed]",
      "text/plain": [
       "<Figure size 432x288 with 1 Axes>"
      ]
     },
     "metadata": {
      "needs_background": "light"
     },
     "output_type": "display_data"
    }
   ],
   "source": [
    "sns.barplot(x = dom_gross.index,y = dom_gross['domestic_gross'])"
   ]
  },
  {
   "cell_type": "code",
   "execution_count": 175,
   "metadata": {},
   "outputs": [
    {
     "data": {
      "text/plain": [
       "<matplotlib.axes._subplots.AxesSubplot at 0x2919d93e2b0>"
      ]
     },
     "execution_count": 175,
     "metadata": {},
     "output_type": "execute_result"
    },
    {
     "data": {
      "image/png": "[encoded data removed]",
      "text/plain": [
       "<Figure size 432x288 with 1 Axes>"
      ]
     },
     "metadata": {
      "needs_background": "light"
     },
     "output_type": "display_data"
    }
   ],
   "source": [
    "sns.barplot(x = ww_gross.index,y = ww_gross['worldwide_gross'])"
   ]
  },
  {
   "cell_type": "code",
   "execution_count": 151,
   "metadata": {},
   "outputs": [],
   "source": [
    "q = \"\"\"SELECT genre, d.domestic_gross, d.worldwide_gross\n",
    "    FROM dom_gross d\n",
    "    LEFT JOIN ww_gross w\n",
    "    USING(genre)\n",
    "    UNION\n",
    "    SELECT genre, w.domestic_gross, w.worldwide_gross\n",
    "    FROM ww_gross w\n",
    "    LEFT JOIN dom_gross d\n",
    "    USING(genre);\"\"\"\n",
    "\n",
    "group_results = pd.melt(sqldf(q), id_vars=\"genre\", var_name=\"location\", value_name=\"value\")"
   ]
  },
  {
   "cell_type": "code",
   "execution_count": 152,
   "metadata": {},
   "outputs": [
    {
     "data": {
      "text/html": [
       "<div>\n",
       "<style scoped>\n",
       "    .dataframe tbody tr th:only-of-type {\n",
       "        vertical-align: middle;\n",
       "    }\n",
       "\n",
       "    .dataframe tbody tr th {\n",
       "        vertical-align: top;\n",
       "    }\n",
       "\n",
       "    .dataframe thead th {\n",
       "        text-align: right;\n",
       "    }\n",
       "</style>\n",
       "<table border=\"1\" class=\"dataframe\">\n",
       "  <thead>\n",
       "    <tr style=\"text-align: right;\">\n",
       "      <th></th>\n",
       "      <th>genre</th>\n",
       "      <th>location</th>\n",
       "      <th>value</th>\n",
       "    </tr>\n",
       "  </thead>\n",
       "  <tbody>\n",
       "    <tr>\n",
       "      <td>0</td>\n",
       "      <td>Action</td>\n",
       "      <td>domestic_gross</td>\n",
       "      <td>36108758.0</td>\n",
       "    </tr>\n",
       "    <tr>\n",
       "      <td>1</td>\n",
       "      <td>Adventure</td>\n",
       "      <td>domestic_gross</td>\n",
       "      <td>60522097.0</td>\n",
       "    </tr>\n",
       "    <tr>\n",
       "      <td>2</td>\n",
       "      <td>Animation</td>\n",
       "      <td>domestic_gross</td>\n",
       "      <td>73921000.0</td>\n",
       "    </tr>\n",
       "    <tr>\n",
       "      <td>3</td>\n",
       "      <td>Comedy</td>\n",
       "      <td>domestic_gross</td>\n",
       "      <td>29910897.0</td>\n",
       "    </tr>\n",
       "    <tr>\n",
       "      <td>4</td>\n",
       "      <td>Family</td>\n",
       "      <td>domestic_gross</td>\n",
       "      <td>35287788.0</td>\n",
       "    </tr>\n",
       "    <tr>\n",
       "      <td>5</td>\n",
       "      <td>Fantasy</td>\n",
       "      <td>domestic_gross</td>\n",
       "      <td>47225655.0</td>\n",
       "    </tr>\n",
       "    <tr>\n",
       "      <td>6</td>\n",
       "      <td>Musical</td>\n",
       "      <td>domestic_gross</td>\n",
       "      <td>84300000.0</td>\n",
       "    </tr>\n",
       "    <tr>\n",
       "      <td>7</td>\n",
       "      <td>Mystery</td>\n",
       "      <td>domestic_gross</td>\n",
       "      <td>22510790.5</td>\n",
       "    </tr>\n",
       "    <tr>\n",
       "      <td>8</td>\n",
       "      <td>News</td>\n",
       "      <td>domestic_gross</td>\n",
       "      <td>15716828.0</td>\n",
       "    </tr>\n",
       "    <tr>\n",
       "      <td>9</td>\n",
       "      <td>Sci-Fi</td>\n",
       "      <td>domestic_gross</td>\n",
       "      <td>34469210.0</td>\n",
       "    </tr>\n",
       "    <tr>\n",
       "      <td>10</td>\n",
       "      <td>Action</td>\n",
       "      <td>worldwide_gross</td>\n",
       "      <td>83531958.0</td>\n",
       "    </tr>\n",
       "    <tr>\n",
       "      <td>11</td>\n",
       "      <td>Adventure</td>\n",
       "      <td>worldwide_gross</td>\n",
       "      <td>167849187.0</td>\n",
       "    </tr>\n",
       "    <tr>\n",
       "      <td>12</td>\n",
       "      <td>Animation</td>\n",
       "      <td>worldwide_gross</td>\n",
       "      <td>149717124.0</td>\n",
       "    </tr>\n",
       "    <tr>\n",
       "      <td>13</td>\n",
       "      <td>Comedy</td>\n",
       "      <td>worldwide_gross</td>\n",
       "      <td>48829105.0</td>\n",
       "    </tr>\n",
       "    <tr>\n",
       "      <td>14</td>\n",
       "      <td>Family</td>\n",
       "      <td>worldwide_gross</td>\n",
       "      <td>55249159.0</td>\n",
       "    </tr>\n",
       "    <tr>\n",
       "      <td>15</td>\n",
       "      <td>Fantasy</td>\n",
       "      <td>worldwide_gross</td>\n",
       "      <td>91678442.0</td>\n",
       "    </tr>\n",
       "    <tr>\n",
       "      <td>16</td>\n",
       "      <td>Musical</td>\n",
       "      <td>worldwide_gross</td>\n",
       "      <td>90552675.0</td>\n",
       "    </tr>\n",
       "    <tr>\n",
       "      <td>17</td>\n",
       "      <td>Mystery</td>\n",
       "      <td>worldwide_gross</td>\n",
       "      <td>39652508.5</td>\n",
       "    </tr>\n",
       "    <tr>\n",
       "      <td>18</td>\n",
       "      <td>News</td>\n",
       "      <td>worldwide_gross</td>\n",
       "      <td>46730578.0</td>\n",
       "    </tr>\n",
       "    <tr>\n",
       "      <td>19</td>\n",
       "      <td>Sci-Fi</td>\n",
       "      <td>worldwide_gross</td>\n",
       "      <td>68079671.0</td>\n",
       "    </tr>\n",
       "  </tbody>\n",
       "</table>\n",
       "</div>"
      ],
      "text/plain": [
       "        genre         location        value\n",
       "0      Action   domestic_gross   36108758.0\n",
       "1   Adventure   domestic_gross   60522097.0\n",
       "2   Animation   domestic_gross   73921000.0\n",
       "3      Comedy   domestic_gross   29910897.0\n",
       "4      Family   domestic_gross   35287788.0\n",
       "5     Fantasy   domestic_gross   47225655.0\n",
       "6     Musical   domestic_gross   84300000.0\n",
       "7     Mystery   domestic_gross   22510790.5\n",
       "8        News   domestic_gross   15716828.0\n",
       "9      Sci-Fi   domestic_gross   34469210.0\n",
       "10     Action  worldwide_gross   83531958.0\n",
       "11  Adventure  worldwide_gross  167849187.0\n",
       "12  Animation  worldwide_gross  149717124.0\n",
       "13     Comedy  worldwide_gross   48829105.0\n",
       "14     Family  worldwide_gross   55249159.0\n",
       "15    Fantasy  worldwide_gross   91678442.0\n",
       "16    Musical  worldwide_gross   90552675.0\n",
       "17    Mystery  worldwide_gross   39652508.5\n",
       "18       News  worldwide_gross   46730578.0\n",
       "19     Sci-Fi  worldwide_gross   68079671.0"
      ]
     },
     "execution_count": 152,
     "metadata": {},
     "output_type": "execute_result"
    }
   ],
   "source": [
    "group_results"
   ]
  },
  {
   "cell_type": "code",
   "execution_count": 159,
   "metadata": {},
   "outputs": [
    {
     "data": {
      "text/plain": [
       "<seaborn.axisgrid.FacetGrid at 0x2919cbd1400>"
      ]
     },
     "execution_count": 159,
     "metadata": {},
     "output_type": "execute_result"
    },
    {
     "data": {
      "image/png": "[encoded data removed]",
      "text/plain": [
       "<Figure size 479x360 with 1 Axes>"
      ]
     },
     "metadata": {
      "needs_background": "light"
     },
     "output_type": "display_data"
    }
   ],
   "source": [
    "sns.catplot(x='genre',y='value',hue='location',data=group_results,kind='bar')"
   ]
  },
  {
   "cell_type": "code",
   "execution_count": null,
   "metadata": {},
   "outputs": [],
   "source": []
  }
 ],
 "metadata": {
  "kernelspec": {
   "display_name": "Python [conda env:learn-env] *",
   "language": "python",
   "name": "conda-env-learn-env-py"
  },
  "language_info": {
   "codemirror_mode": {
    "name": "ipython",
    "version": 3
   },
   "file_extension": ".py",
   "mimetype": "text/x-python",
   "name": "python",
   "nbconvert_exporter": "python",
   "pygments_lexer": "ipython3",
   "version": "3.6.9"
  }
 },
 "nbformat": 4,
 "nbformat_minor": 2
}
