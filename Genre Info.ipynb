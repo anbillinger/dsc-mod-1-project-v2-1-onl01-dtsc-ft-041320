{
 "cells": [
  {
   "cell_type": "markdown",
   "metadata": {},
   "source": [
    "# How does genre factor into Movie Success\n",
    "- Also, does genre/success depend on domestic vs abroad?"
   ]
  },
  {
   "cell_type": "markdown",
   "metadata": {},
   "source": [
    "What datasets will this need?\n",
    "- IMDB title basics for Genre Info\n",
    "- TN Movie Budgets for domestic and worldwide gross"
   ]
  },
  {
   "cell_type": "code",
   "execution_count": 5,
   "metadata": {},
   "outputs": [
    {
     "name": "stdout",
     "output_type": "stream",
     "text": [
      "<class 'pandas.core.frame.DataFrame'>\n",
      "Int64Index: 3625 entries, 0 to 3839\n",
      "Data columns (total 8 columns):\n",
      "movie                3625 non-null object\n",
      "genres               3625 non-null object\n",
      "directors            3625 non-null object\n",
      "writers              3625 non-null object\n",
      "production_budget    3625 non-null int64\n",
      "domestic_gross       3625 non-null int64\n",
      "worldwide_gross      3625 non-null int64\n",
      "tconst               3625 non-null object\n",
      "dtypes: int64(3), object(5)\n",
      "memory usage: 254.9+ KB\n"
     ]
    }
   ],
   "source": [
    "import pandas as pd\n",
    "import seaborn as sns\n",
    "import numpy as np\n",
    "from pandasql import sqldf\n",
    "\n",
    "df = pd.read_csv('TN_budget_and_IMDB.csv').drop_duplicates('tconst')\n",
    "df.info()"
   ]
  },
  {
   "cell_type": "code",
   "execution_count": 6,
   "metadata": {},
   "outputs": [
    {
     "data": {
      "text/plain": [
       "Drama                         465\n",
       "Documentary                   262\n",
       "Comedy                        131\n",
       "Comedy,Drama                  104\n",
       "Horror                         97\n",
       "Drama,Romance                  85\n",
       "Comedy,Drama,Romance           85\n",
       "Thriller                       83\n",
       "Adventure,Animation,Comedy     75\n",
       "Drama,Thriller                 61\n",
       "Name: genres, dtype: int64"
      ]
     },
     "execution_count": 6,
     "metadata": {},
     "output_type": "execute_result"
    }
   ],
   "source": [
    "df['genres'].value_counts().head(10)"
   ]
  },
  {
   "cell_type": "code",
   "execution_count": 3,
   "metadata": {},
   "outputs": [
    {
     "data": {
      "text/html": [
       "<div>\n",
       "<style scoped>\n",
       "    .dataframe tbody tr th:only-of-type {\n",
       "        vertical-align: middle;\n",
       "    }\n",
       "\n",
       "    .dataframe tbody tr th {\n",
       "        vertical-align: top;\n",
       "    }\n",
       "\n",
       "    .dataframe thead th {\n",
       "        text-align: right;\n",
       "    }\n",
       "</style>\n",
       "<table border=\"1\" class=\"dataframe\">\n",
       "  <thead>\n",
       "    <tr style=\"text-align: right;\">\n",
       "      <th></th>\n",
       "      <th>production_budget</th>\n",
       "      <th>domestic_gross</th>\n",
       "      <th>worldwide_gross</th>\n",
       "    </tr>\n",
       "  </thead>\n",
       "  <tbody>\n",
       "    <tr>\n",
       "      <td>count</td>\n",
       "      <td>3.625000e+03</td>\n",
       "      <td>3.625000e+03</td>\n",
       "      <td>3.625000e+03</td>\n",
       "    </tr>\n",
       "    <tr>\n",
       "      <td>mean</td>\n",
       "      <td>3.336453e+07</td>\n",
       "      <td>4.030352e+07</td>\n",
       "      <td>9.492599e+07</td>\n",
       "    </tr>\n",
       "    <tr>\n",
       "      <td>std</td>\n",
       "      <td>4.551238e+07</td>\n",
       "      <td>7.128210e+07</td>\n",
       "      <td>1.942271e+08</td>\n",
       "    </tr>\n",
       "    <tr>\n",
       "      <td>min</td>\n",
       "      <td>1.400000e+03</td>\n",
       "      <td>0.000000e+00</td>\n",
       "      <td>0.000000e+00</td>\n",
       "    </tr>\n",
       "    <tr>\n",
       "      <td>25%</td>\n",
       "      <td>5.000000e+06</td>\n",
       "      <td>4.335880e+05</td>\n",
       "      <td>2.009644e+06</td>\n",
       "    </tr>\n",
       "    <tr>\n",
       "      <td>50%</td>\n",
       "      <td>1.700000e+07</td>\n",
       "      <td>1.439410e+07</td>\n",
       "      <td>2.468752e+07</td>\n",
       "    </tr>\n",
       "    <tr>\n",
       "      <td>75%</td>\n",
       "      <td>4.000000e+07</td>\n",
       "      <td>4.826558e+07</td>\n",
       "      <td>9.512734e+07</td>\n",
       "    </tr>\n",
       "    <tr>\n",
       "      <td>max</td>\n",
       "      <td>4.250000e+08</td>\n",
       "      <td>7.605076e+08</td>\n",
       "      <td>2.776345e+09</td>\n",
       "    </tr>\n",
       "  </tbody>\n",
       "</table>\n",
       "</div>"
      ],
      "text/plain": [
       "       production_budget  domestic_gross  worldwide_gross\n",
       "count       3.625000e+03    3.625000e+03     3.625000e+03\n",
       "mean        3.336453e+07    4.030352e+07     9.492599e+07\n",
       "std         4.551238e+07    7.128210e+07     1.942271e+08\n",
       "min         1.400000e+03    0.000000e+00     0.000000e+00\n",
       "25%         5.000000e+06    4.335880e+05     2.009644e+06\n",
       "50%         1.700000e+07    1.439410e+07     2.468752e+07\n",
       "75%         4.000000e+07    4.826558e+07     9.512734e+07\n",
       "max         4.250000e+08    7.605076e+08     2.776345e+09"
      ]
     },
     "execution_count": 3,
     "metadata": {},
     "output_type": "execute_result"
    }
   ],
   "source": [
    "df.describe()"
   ]
  },
  {
   "cell_type": "markdown",
   "metadata": {},
   "source": [
    "Often, movies belong to more than one genre. For the purposes of our data, each movie will count towards every individual genre it belongs to (so Action,Crime,Drama will contribute to Action and Crime and Drama)"
   ]
  },
  {
   "cell_type": "code",
   "execution_count": 30,
   "metadata": {},
   "outputs": [
    {
     "data": {
      "text/html": [
       "<div>\n",
       "<style scoped>\n",
       "    .dataframe tbody tr th:only-of-type {\n",
       "        vertical-align: middle;\n",
       "    }\n",
       "\n",
       "    .dataframe tbody tr th {\n",
       "        vertical-align: top;\n",
       "    }\n",
       "\n",
       "    .dataframe thead th {\n",
       "        text-align: right;\n",
       "    }\n",
       "</style>\n",
       "<table border=\"1\" class=\"dataframe\">\n",
       "  <thead>\n",
       "    <tr style=\"text-align: right;\">\n",
       "      <th></th>\n",
       "      <th>movie</th>\n",
       "      <th>genre</th>\n",
       "      <th>domestic_gross</th>\n",
       "      <th>worldwide_gross</th>\n",
       "    </tr>\n",
       "  </thead>\n",
       "  <tbody>\n",
       "    <tr>\n",
       "      <td>0</td>\n",
       "      <td>Foodfight!</td>\n",
       "      <td>Action</td>\n",
       "      <td>0</td>\n",
       "      <td>73706</td>\n",
       "    </tr>\n",
       "    <tr>\n",
       "      <td>1</td>\n",
       "      <td>Foodfight!</td>\n",
       "      <td>Animation</td>\n",
       "      <td>0</td>\n",
       "      <td>73706</td>\n",
       "    </tr>\n",
       "    <tr>\n",
       "      <td>2</td>\n",
       "      <td>Foodfight!</td>\n",
       "      <td>Comedy</td>\n",
       "      <td>0</td>\n",
       "      <td>73706</td>\n",
       "    </tr>\n",
       "    <tr>\n",
       "      <td>3</td>\n",
       "      <td>Mortal Kombat</td>\n",
       "      <td>Action</td>\n",
       "      <td>70433227</td>\n",
       "      <td>122133227</td>\n",
       "    </tr>\n",
       "    <tr>\n",
       "      <td>4</td>\n",
       "      <td>Mortal Kombat</td>\n",
       "      <td>Adventure</td>\n",
       "      <td>70433227</td>\n",
       "      <td>122133227</td>\n",
       "    </tr>\n",
       "    <tr>\n",
       "      <td>...</td>\n",
       "      <td>...</td>\n",
       "      <td>...</td>\n",
       "      <td>...</td>\n",
       "      <td>...</td>\n",
       "    </tr>\n",
       "    <tr>\n",
       "      <td>6926</td>\n",
       "      <td>Sisters</td>\n",
       "      <td>Drama</td>\n",
       "      <td>87044645</td>\n",
       "      <td>106030660</td>\n",
       "    </tr>\n",
       "    <tr>\n",
       "      <td>6927</td>\n",
       "      <td>Ali</td>\n",
       "      <td>Drama</td>\n",
       "      <td>58183966</td>\n",
       "      <td>87683966</td>\n",
       "    </tr>\n",
       "    <tr>\n",
       "      <td>6928</td>\n",
       "      <td>The Promise</td>\n",
       "      <td>Drama</td>\n",
       "      <td>8224288</td>\n",
       "      <td>10551417</td>\n",
       "    </tr>\n",
       "    <tr>\n",
       "      <td>6929</td>\n",
       "      <td>Columbus</td>\n",
       "      <td>Comedy</td>\n",
       "      <td>1017107</td>\n",
       "      <td>1110511</td>\n",
       "    </tr>\n",
       "    <tr>\n",
       "      <td>6930</td>\n",
       "      <td>Unstoppable</td>\n",
       "      <td>Documentary</td>\n",
       "      <td>81562942</td>\n",
       "      <td>165720921</td>\n",
       "    </tr>\n",
       "  </tbody>\n",
       "</table>\n",
       "<p>6931 rows × 4 columns</p>\n",
       "</div>"
      ],
      "text/plain": [
       "              movie        genre  domestic_gross  worldwide_gross\n",
       "0        Foodfight!       Action               0            73706\n",
       "1        Foodfight!    Animation               0            73706\n",
       "2        Foodfight!       Comedy               0            73706\n",
       "3     Mortal Kombat       Action        70433227        122133227\n",
       "4     Mortal Kombat    Adventure        70433227        122133227\n",
       "...             ...          ...             ...              ...\n",
       "6926        Sisters        Drama        87044645        106030660\n",
       "6927            Ali        Drama        58183966         87683966\n",
       "6928    The Promise        Drama         8224288         10551417\n",
       "6929       Columbus       Comedy         1017107          1110511\n",
       "6930    Unstoppable  Documentary        81562942        165720921\n",
       "\n",
       "[6931 rows x 4 columns]"
      ]
     },
     "execution_count": 30,
     "metadata": {},
     "output_type": "execute_result"
    }
   ],
   "source": [
    "new_df = pd.DataFrame(df.genres.str.split(',').tolist(), index=df.tconst).stack()\n",
    "new_df = new_df.reset_index([0, 'tconst'])\n",
    "new_df.columns = ['tconst','genre']\n",
    "\n",
    "\n",
    "q = \"\"\"SELECT movie, genre, domestic_gross, worldwide_gross\n",
    "    FROM df\n",
    "    JOIN new_df\n",
    "    USING(tconst)\n",
    "    WHERE (domestic_gross > 0 OR worldwide_gross > 0) AND genre != 'Missing genre data';\"\"\"\n",
    "\n",
    "genres_df = sqldf(q)\n",
    "genres_df"
   ]
  },
  {
   "cell_type": "code",
   "execution_count": 31,
   "metadata": {},
   "outputs": [],
   "source": [
    "#grouped by genre, median is probably more accurate to actual results\n",
    "#But I would be interested to see median vs mean\n",
    "#Is max the same in median and mean? Is there a genre where outliers are more extreme?\n",
    "groupedavg = genres_df.groupby('genre').mean()\n",
    "groupedmed = genres_df.groupby('genre').median()"
   ]
  },
  {
   "cell_type": "markdown",
   "metadata": {},
   "source": [
    "# Next question:\n",
    "- have plottable data for mean and median, both domestic and worldwide\n",
    "- Should pick between mean and median. Probably median, cause strong right skew.\n",
    "- Does mean vs median vary by genre? Do some have more outliers?\n",
    "- Overthinking: point isn't to cover every possible variable, but to get useful, actionable info\n",
    "- Focus on question: what genre is most profitable, so focus on median"
   ]
  },
  {
   "cell_type": "code",
   "execution_count": 13,
   "metadata": {},
   "outputs": [
    {
     "data": {
      "text/plain": [
       "<matplotlib.axes._subplots.AxesSubplot at 0x2af7d4158d0>"
      ]
     },
     "execution_count": 13,
     "metadata": {},
     "output_type": "execute_result"
    },
    {
     "data": {
      "image/png": "[encoded data removed]",
      "text/plain": [
       "<Figure size 432x288 with 1 Axes>"
      ]
     },
     "metadata": {
      "needs_background": "light"
     },
     "output_type": "display_data"
    }
   ],
   "source": [
    "sns.scatterplot(data = groupedavg)"
   ]
  },
  {
   "cell_type": "code",
   "execution_count": 22,
   "metadata": {},
   "outputs": [
    {
     "data": {
      "text/plain": [
       "<matplotlib.axes._subplots.AxesSubplot at 0x2af7da72ef0>"
      ]
     },
     "execution_count": 22,
     "metadata": {},
     "output_type": "execute_result"
    },
    {
     "data": {
      "image/png": "[encoded data removed]",
      "text/plain": [
       "<Figure size 432x288 with 1 Axes>"
      ]
     },
     "metadata": {
      "needs_background": "light"
     },
     "output_type": "display_data"
    }
   ],
   "source": [
    "sns.scatterplot(data = groupedmed)"
   ]
  },
  {
   "cell_type": "code",
   "execution_count": 32,
   "metadata": {},
   "outputs": [],
   "source": [
    "dom_gross = groupedmed.sort_values('domestic_gross',ascending=False).head(9)\n",
    "dom_gross['domestic_gross'] = dom_gross['domestic_gross'].map(lambda x:x/dom_gross['domestic_gross'].max())"
   ]
  },
  {
   "cell_type": "code",
   "execution_count": 33,
   "metadata": {},
   "outputs": [],
   "source": [
    "ww_gross = groupedmed.sort_values('worldwide_gross',ascending=False).head(9)\n",
    "ww_gross['worldwide_gross'] = ww_gross['worldwide_gross'].map(lambda x:x/ww_gross['worldwide_gross'].max())"
   ]
  },
  {
   "cell_type": "code",
   "execution_count": 34,
   "metadata": {},
   "outputs": [
    {
     "data": {
      "text/plain": [
       "<matplotlib.axes._subplots.AxesSubplot at 0x2af7dc31780>"
      ]
     },
     "execution_count": 34,
     "metadata": {},
     "output_type": "execute_result"
    },
    {
     "data": {
      "image/png": "[encoded data removed]",
      "text/plain": [
       "<Figure size 432x288 with 1 Axes>"
      ]
     },
     "metadata": {
      "needs_background": "light"
     },
     "output_type": "display_data"
    }
   ],
   "source": [
    "sns.barplot(x = dom_gross.index,y = dom_gross['domestic_gross'])"
   ]
  },
  {
   "cell_type": "code",
   "execution_count": 35,
   "metadata": {},
   "outputs": [
    {
     "data": {
      "text/plain": [
       "<matplotlib.axes._subplots.AxesSubplot at 0x2af7d520cc0>"
      ]
     },
     "execution_count": 35,
     "metadata": {},
     "output_type": "execute_result"
    },
    {
     "data": {
      "image/png": "[encoded data removed]",
      "text/plain": [
       "<Figure size 432x288 with 1 Axes>"
      ]
     },
     "metadata": {
      "needs_background": "light"
     },
     "output_type": "display_data"
    }
   ],
   "source": [
    "sns.barplot(x = ww_gross.index,y = ww_gross['worldwide_gross'])"
   ]
  },
  {
   "cell_type": "code",
   "execution_count": 151,
   "metadata": {},
   "outputs": [],
   "source": [
    "q = \"\"\"SELECT genre, d.domestic_gross, d.worldwide_gross\n",
    "    FROM dom_gross d\n",
    "    LEFT JOIN ww_gross w\n",
    "    USING(genre)\n",
    "    UNION\n",
    "    SELECT genre, w.domestic_gross, w.worldwide_gross\n",
    "    FROM ww_gross w\n",
    "    LEFT JOIN dom_gross d\n",
    "    USING(genre);\"\"\"\n",
    "\n",
    "group_results = pd.melt(sqldf(q), id_vars=\"genre\", var_name=\"location\", value_name=\"value\")"
   ]
  },
  {
   "cell_type": "code",
   "execution_count": 152,
   "metadata": {},
   "outputs": [
    {
     "data": {
      "text/html": [
       "<div>\n",
       "<style scoped>\n",
       "    .dataframe tbody tr th:only-of-type {\n",
       "        vertical-align: middle;\n",
       "    }\n",
       "\n",
       "    .dataframe tbody tr th {\n",
       "        vertical-align: top;\n",
       "    }\n",
       "\n",
       "    .dataframe thead th {\n",
       "        text-align: right;\n",
       "    }\n",
       "</style>\n",
       "<table border=\"1\" class=\"dataframe\">\n",
       "  <thead>\n",
       "    <tr style=\"text-align: right;\">\n",
       "      <th></th>\n",
       "      <th>genre</th>\n",
       "      <th>location</th>\n",
       "      <th>value</th>\n",
       "    </tr>\n",
       "  </thead>\n",
       "  <tbody>\n",
       "    <tr>\n",
       "      <td>0</td>\n",
       "      <td>Action</td>\n",
       "      <td>domestic_gross</td>\n",
       "      <td>36108758.0</td>\n",
       "    </tr>\n",
       "    <tr>\n",
       "      <td>1</td>\n",
       "      <td>Adventure</td>\n",
       "      <td>domestic_gross</td>\n",
       "      <td>60522097.0</td>\n",
       "    </tr>\n",
       "    <tr>\n",
       "      <td>2</td>\n",
       "      <td>Animation</td>\n",
       "      <td>domestic_gross</td>\n",
       "      <td>73921000.0</td>\n",
       "    </tr>\n",
       "    <tr>\n",
       "      <td>3</td>\n",
       "      <td>Comedy</td>\n",
       "      <td>domestic_gross</td>\n",
       "      <td>29910897.0</td>\n",
       "    </tr>\n",
       "    <tr>\n",
       "      <td>4</td>\n",
       "      <td>Family</td>\n",
       "      <td>domestic_gross</td>\n",
       "      <td>35287788.0</td>\n",
       "    </tr>\n",
       "    <tr>\n",
       "      <td>5</td>\n",
       "      <td>Fantasy</td>\n",
       "      <td>domestic_gross</td>\n",
       "      <td>47225655.0</td>\n",
       "    </tr>\n",
       "    <tr>\n",
       "      <td>6</td>\n",
       "      <td>Musical</td>\n",
       "      <td>domestic_gross</td>\n",
       "      <td>84300000.0</td>\n",
       "    </tr>\n",
       "    <tr>\n",
       "      <td>7</td>\n",
       "      <td>Mystery</td>\n",
       "      <td>domestic_gross</td>\n",
       "      <td>22510790.5</td>\n",
       "    </tr>\n",
       "    <tr>\n",
       "      <td>8</td>\n",
       "      <td>News</td>\n",
       "      <td>domestic_gross</td>\n",
       "      <td>15716828.0</td>\n",
       "    </tr>\n",
       "    <tr>\n",
       "      <td>9</td>\n",
       "      <td>Sci-Fi</td>\n",
       "      <td>domestic_gross</td>\n",
       "      <td>34469210.0</td>\n",
       "    </tr>\n",
       "    <tr>\n",
       "      <td>10</td>\n",
       "      <td>Action</td>\n",
       "      <td>worldwide_gross</td>\n",
       "      <td>83531958.0</td>\n",
       "    </tr>\n",
       "    <tr>\n",
       "      <td>11</td>\n",
       "      <td>Adventure</td>\n",
       "      <td>worldwide_gross</td>\n",
       "      <td>167849187.0</td>\n",
       "    </tr>\n",
       "    <tr>\n",
       "      <td>12</td>\n",
       "      <td>Animation</td>\n",
       "      <td>worldwide_gross</td>\n",
       "      <td>149717124.0</td>\n",
       "    </tr>\n",
       "    <tr>\n",
       "      <td>13</td>\n",
       "      <td>Comedy</td>\n",
       "      <td>worldwide_gross</td>\n",
       "      <td>48829105.0</td>\n",
       "    </tr>\n",
       "    <tr>\n",
       "      <td>14</td>\n",
       "      <td>Family</td>\n",
       "      <td>worldwide_gross</td>\n",
       "      <td>55249159.0</td>\n",
       "    </tr>\n",
       "    <tr>\n",
       "      <td>15</td>\n",
       "      <td>Fantasy</td>\n",
       "      <td>worldwide_gross</td>\n",
       "      <td>91678442.0</td>\n",
       "    </tr>\n",
       "    <tr>\n",
       "      <td>16</td>\n",
       "      <td>Musical</td>\n",
       "      <td>worldwide_gross</td>\n",
       "      <td>90552675.0</td>\n",
       "    </tr>\n",
       "    <tr>\n",
       "      <td>17</td>\n",
       "      <td>Mystery</td>\n",
       "      <td>worldwide_gross</td>\n",
       "      <td>39652508.5</td>\n",
       "    </tr>\n",
       "    <tr>\n",
       "      <td>18</td>\n",
       "      <td>News</td>\n",
       "      <td>worldwide_gross</td>\n",
       "      <td>46730578.0</td>\n",
       "    </tr>\n",
       "    <tr>\n",
       "      <td>19</td>\n",
       "      <td>Sci-Fi</td>\n",
       "      <td>worldwide_gross</td>\n",
       "      <td>68079671.0</td>\n",
       "    </tr>\n",
       "  </tbody>\n",
       "</table>\n",
       "</div>"
      ],
      "text/plain": [
       "        genre         location        value\n",
       "0      Action   domestic_gross   36108758.0\n",
       "1   Adventure   domestic_gross   60522097.0\n",
       "2   Animation   domestic_gross   73921000.0\n",
       "3      Comedy   domestic_gross   29910897.0\n",
       "4      Family   domestic_gross   35287788.0\n",
       "5     Fantasy   domestic_gross   47225655.0\n",
       "6     Musical   domestic_gross   84300000.0\n",
       "7     Mystery   domestic_gross   22510790.5\n",
       "8        News   domestic_gross   15716828.0\n",
       "9      Sci-Fi   domestic_gross   34469210.0\n",
       "10     Action  worldwide_gross   83531958.0\n",
       "11  Adventure  worldwide_gross  167849187.0\n",
       "12  Animation  worldwide_gross  149717124.0\n",
       "13     Comedy  worldwide_gross   48829105.0\n",
       "14     Family  worldwide_gross   55249159.0\n",
       "15    Fantasy  worldwide_gross   91678442.0\n",
       "16    Musical  worldwide_gross   90552675.0\n",
       "17    Mystery  worldwide_gross   39652508.5\n",
       "18       News  worldwide_gross   46730578.0\n",
       "19     Sci-Fi  worldwide_gross   68079671.0"
      ]
     },
     "execution_count": 152,
     "metadata": {},
     "output_type": "execute_result"
    }
   ],
   "source": [
    "group_results"
   ]
  },
  {
   "cell_type": "code",
   "execution_count": 159,
   "metadata": {},
   "outputs": [
    {
     "data": {
      "text/plain": [
       "<seaborn.axisgrid.FacetGrid at 0x2919cbd1400>"
      ]
     },
     "execution_count": 159,
     "metadata": {},
     "output_type": "execute_result"
    },
    {
     "data": {
      "image/png": "[encoded data removed]",
      "text/plain": [
       "<Figure size 479x360 with 1 Axes>"
      ]
     },
     "metadata": {
      "needs_background": "light"
     },
     "output_type": "display_data"
    }
   ],
   "source": [
    "sns.catplot(x='genre',y='value',hue='location',data=group_results,kind='bar')"
   ]
  },
  {
   "cell_type": "code",
   "execution_count": null,
   "metadata": {},
   "outputs": [],
   "source": []
  }
 ],
 "metadata": {
  "kernelspec": {
   "display_name": "Python [conda env:learn-env] *",
   "language": "python",
   "name": "conda-env-learn-env-py"
  },
  "language_info": {
   "codemirror_mode": {
    "name": "ipython",
    "version": 3
   },
   "file_extension": ".py",
   "mimetype": "text/x-python",
   "name": "python",
   "nbconvert_exporter": "python",
   "pygments_lexer": "ipython3",
   "version": "3.6.9"
  }
 },
 "nbformat": 4,
 "nbformat_minor": 2
}
