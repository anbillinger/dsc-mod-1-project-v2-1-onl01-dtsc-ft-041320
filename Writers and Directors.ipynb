{
 "cells": [
  {
   "cell_type": "markdown",
   "metadata": {},
   "source": [
    "# Highest Grossing Writers and Directors"
   ]
  },
  {
   "cell_type": "markdown",
   "metadata": {},
   "source": [
    "What data sets?\n",
    "- tn movie budgets\n",
    "- IMDB title crew, IMDB name basics, IMDB title basics"
   ]
  },
  {
   "cell_type": "code",
   "execution_count": 2,
   "metadata": {},
   "outputs": [],
   "source": [
    "import pandas as pd\n",
    "import seaborn as sns\n",
    "import numpy as np\n",
    "from pandasql import sqldf"
   ]
  },
  {
   "cell_type": "markdown",
   "metadata": {},
   "source": [
    "IMDB name basics, provides writer and director names"
   ]
  },
  {
   "cell_type": "code",
   "execution_count": 3,
   "metadata": {},
   "outputs": [
    {
     "name": "stdout",
     "output_type": "stream",
     "text": [
      "<class 'pandas.core.frame.DataFrame'>\n",
      "RangeIndex: 606648 entries, 0 to 606647\n",
      "Data columns (total 4 columns):\n",
      "nconst                606648 non-null object\n",
      "primary_name          606648 non-null object\n",
      "primary_profession    555308 non-null object\n",
      "known_for_titles      576444 non-null object\n",
      "dtypes: object(4)\n",
      "memory usage: 18.5+ MB\n"
     ]
    }
   ],
   "source": [
    "#From Erica's data cleaning\n",
    "imdb_name_df = pd.read_csv('zippedData/imdb.name.basics.csv.gz', compression='gzip')\n",
    "imdb_name_df = imdb_name_df.drop(columns=['birth_year', 'death_year']) #Both of these columns are missing ~85%+ values \n",
    "\n",
    "imdb_name_df.info()"
   ]
  },
  {
   "cell_type": "markdown",
   "metadata": {},
   "source": [
    "Import combined/cleaned data set with includes TN budget/gross data, and IMDB movie name, movie ID, directory and writer IDs"
   ]
  },
  {
   "cell_type": "code",
   "execution_count": 15,
   "metadata": {},
   "outputs": [
    {
     "name": "stdout",
     "output_type": "stream",
     "text": [
      "<class 'pandas.core.frame.DataFrame'>\n",
      "Int64Index: 3625 entries, 0 to 3839\n",
      "Data columns (total 8 columns):\n",
      "movie                3625 non-null object\n",
      "genres               3625 non-null object\n",
      "directors            3625 non-null object\n",
      "writers              3625 non-null object\n",
      "production_budget    3625 non-null int64\n",
      "domestic_gross       3625 non-null int64\n",
      "worldwide_gross      3625 non-null int64\n",
      "tconst               3625 non-null object\n",
      "dtypes: int64(3), object(5)\n",
      "memory usage: 254.9+ KB\n"
     ]
    }
   ],
   "source": [
    "df = pd.read_csv('TN_budget_and_IMDB.csv').drop_duplicates('tconst')\n",
    "df.info()"
   ]
  },
  {
   "cell_type": "code",
   "execution_count": 17,
   "metadata": {},
   "outputs": [
    {
     "data": {
      "text/html": [
       "<div>\n",
       "<style scoped>\n",
       "    .dataframe tbody tr th:only-of-type {\n",
       "        vertical-align: middle;\n",
       "    }\n",
       "\n",
       "    .dataframe tbody tr th {\n",
       "        vertical-align: top;\n",
       "    }\n",
       "\n",
       "    .dataframe thead th {\n",
       "        text-align: right;\n",
       "    }\n",
       "</style>\n",
       "<table border=\"1\" class=\"dataframe\">\n",
       "  <thead>\n",
       "    <tr style=\"text-align: right;\">\n",
       "      <th></th>\n",
       "      <th>movie</th>\n",
       "      <th>genres</th>\n",
       "      <th>directors</th>\n",
       "      <th>writers</th>\n",
       "      <th>production_budget</th>\n",
       "      <th>domestic_gross</th>\n",
       "      <th>worldwide_gross</th>\n",
       "      <th>tconst</th>\n",
       "    </tr>\n",
       "  </thead>\n",
       "  <tbody>\n",
       "    <tr>\n",
       "      <td>0</td>\n",
       "      <td>Foodfight!</td>\n",
       "      <td>Action,Animation,Comedy</td>\n",
       "      <td>nm0440415</td>\n",
       "      <td>nm0440415,nm0923312,nm0295165,nm0841854,nm0220297</td>\n",
       "      <td>45000000</td>\n",
       "      <td>0</td>\n",
       "      <td>73706</td>\n",
       "      <td>tt0249516</td>\n",
       "    </tr>\n",
       "    <tr>\n",
       "      <td>1</td>\n",
       "      <td>Mortal Kombat</td>\n",
       "      <td>Action,Adventure,Fantasy</td>\n",
       "      <td>nm2585406</td>\n",
       "      <td>nm3859643</td>\n",
       "      <td>20000000</td>\n",
       "      <td>70433227</td>\n",
       "      <td>122133227</td>\n",
       "      <td>tt0293429</td>\n",
       "    </tr>\n",
       "    <tr>\n",
       "      <td>2</td>\n",
       "      <td>The Overnight</td>\n",
       "      <td>Genre Data Missing</td>\n",
       "      <td>nm1208371</td>\n",
       "      <td>nm1170333,nm1208371</td>\n",
       "      <td>200000</td>\n",
       "      <td>1109808</td>\n",
       "      <td>1165996</td>\n",
       "      <td>tt0326592</td>\n",
       "    </tr>\n",
       "    <tr>\n",
       "      <td>3</td>\n",
       "      <td>On the Road</td>\n",
       "      <td>Adventure,Drama,Romance</td>\n",
       "      <td>nm0758574</td>\n",
       "      <td>nm0449616,nm1433580</td>\n",
       "      <td>25000000</td>\n",
       "      <td>720828</td>\n",
       "      <td>9313302</td>\n",
       "      <td>tt0337692</td>\n",
       "    </tr>\n",
       "    <tr>\n",
       "      <td>4</td>\n",
       "      <td>The Secret Life of Walter Mitty</td>\n",
       "      <td>Adventure,Comedy,Drama</td>\n",
       "      <td>nm0001774</td>\n",
       "      <td>nm0175726,nm0862122</td>\n",
       "      <td>91000000</td>\n",
       "      <td>58236838</td>\n",
       "      <td>187861183</td>\n",
       "      <td>tt0359950</td>\n",
       "    </tr>\n",
       "    <tr>\n",
       "      <td>5</td>\n",
       "      <td>A Walk Among the Tombstones</td>\n",
       "      <td>Action,Crime,Drama</td>\n",
       "      <td>nm0291082</td>\n",
       "      <td>nm0088747,nm0291082</td>\n",
       "      <td>28000000</td>\n",
       "      <td>26017685</td>\n",
       "      <td>62108587</td>\n",
       "      <td>tt0365907</td>\n",
       "    </tr>\n",
       "    <tr>\n",
       "      <td>6</td>\n",
       "      <td>Jurassic World</td>\n",
       "      <td>Action,Adventure,Sci-Fi</td>\n",
       "      <td>nm1119880</td>\n",
       "      <td>nm0415425,nm0798646,nm1119880,nm2081046,nm0000341</td>\n",
       "      <td>215000000</td>\n",
       "      <td>652270625</td>\n",
       "      <td>1648854864</td>\n",
       "      <td>tt0369610</td>\n",
       "    </tr>\n",
       "    <tr>\n",
       "      <td>7</td>\n",
       "      <td>The Rum Diary</td>\n",
       "      <td>Comedy,Drama</td>\n",
       "      <td>nm0732430</td>\n",
       "      <td>nm0732430,nm0860219</td>\n",
       "      <td>45000000</td>\n",
       "      <td>13109815</td>\n",
       "      <td>21544732</td>\n",
       "      <td>tt0376136</td>\n",
       "    </tr>\n",
       "    <tr>\n",
       "      <td>8</td>\n",
       "      <td>The Three Stooges</td>\n",
       "      <td>Comedy,Family</td>\n",
       "      <td>nm0268380,nm0268370</td>\n",
       "      <td>nm0148808,nm0268370,nm0268380</td>\n",
       "      <td>30000000</td>\n",
       "      <td>44338224</td>\n",
       "      <td>54052249</td>\n",
       "      <td>tt0383010</td>\n",
       "    </tr>\n",
       "    <tr>\n",
       "      <td>9</td>\n",
       "      <td>Anderson's Cross</td>\n",
       "      <td>Comedy,Drama,Romance</td>\n",
       "      <td>nm1516329</td>\n",
       "      <td>nm1516329</td>\n",
       "      <td>300000</td>\n",
       "      <td>0</td>\n",
       "      <td>0</td>\n",
       "      <td>tt0393049</td>\n",
       "    </tr>\n",
       "  </tbody>\n",
       "</table>\n",
       "</div>"
      ],
      "text/plain": [
       "                             movie                    genres  \\\n",
       "0                       Foodfight!   Action,Animation,Comedy   \n",
       "1                    Mortal Kombat  Action,Adventure,Fantasy   \n",
       "2                    The Overnight        Genre Data Missing   \n",
       "3                      On the Road   Adventure,Drama,Romance   \n",
       "4  The Secret Life of Walter Mitty    Adventure,Comedy,Drama   \n",
       "5      A Walk Among the Tombstones        Action,Crime,Drama   \n",
       "6                   Jurassic World   Action,Adventure,Sci-Fi   \n",
       "7                    The Rum Diary              Comedy,Drama   \n",
       "8                The Three Stooges             Comedy,Family   \n",
       "9                 Anderson's Cross      Comedy,Drama,Romance   \n",
       "\n",
       "             directors                                            writers  \\\n",
       "0            nm0440415  nm0440415,nm0923312,nm0295165,nm0841854,nm0220297   \n",
       "1            nm2585406                                          nm3859643   \n",
       "2            nm1208371                                nm1170333,nm1208371   \n",
       "3            nm0758574                                nm0449616,nm1433580   \n",
       "4            nm0001774                                nm0175726,nm0862122   \n",
       "5            nm0291082                                nm0088747,nm0291082   \n",
       "6            nm1119880  nm0415425,nm0798646,nm1119880,nm2081046,nm0000341   \n",
       "7            nm0732430                                nm0732430,nm0860219   \n",
       "8  nm0268380,nm0268370                      nm0148808,nm0268370,nm0268380   \n",
       "9            nm1516329                                          nm1516329   \n",
       "\n",
       "   production_budget  domestic_gross  worldwide_gross     tconst  \n",
       "0           45000000               0            73706  tt0249516  \n",
       "1           20000000        70433227        122133227  tt0293429  \n",
       "2             200000         1109808          1165996  tt0326592  \n",
       "3           25000000          720828          9313302  tt0337692  \n",
       "4           91000000        58236838        187861183  tt0359950  \n",
       "5           28000000        26017685         62108587  tt0365907  \n",
       "6          215000000       652270625       1648854864  tt0369610  \n",
       "7           45000000        13109815         21544732  tt0376136  \n",
       "8           30000000        44338224         54052249  tt0383010  \n",
       "9             300000               0                0  tt0393049  "
      ]
     },
     "execution_count": 17,
     "metadata": {},
     "output_type": "execute_result"
    }
   ],
   "source": [
    "df.head(10)"
   ]
  },
  {
   "cell_type": "markdown",
   "metadata": {},
   "source": [
    "Next steps: change director/writer ids to names, split cs cells to multiple rows, group by director or writer. Remove rows with no gross income data. Consider mean vs median\n",
    "- need separate databases for director info and writer info"
   ]
  },
  {
   "cell_type": "code",
   "execution_count": 46,
   "metadata": {},
   "outputs": [],
   "source": [
    "df['num_writers'] = df['writers'].apply(lambda x:len(x.split(',')))\n",
    "df['num_directors'] = df['directors'].apply(lambda x:len(x.split(',')))"
   ]
  },
  {
   "cell_type": "code",
   "execution_count": 49,
   "metadata": {},
   "outputs": [
    {
     "data": {
      "text/plain": [
       "1     1791\n",
       "2      971\n",
       "3      451\n",
       "4      210\n",
       "5       99\n",
       "6       42\n",
       "7       18\n",
       "9       13\n",
       "8       13\n",
       "10       9\n",
       "11       3\n",
       "25       1\n",
       "13       1\n",
       "20       1\n",
       "14       1\n",
       "12       1\n",
       "Name: num_writers, dtype: int64"
      ]
     },
     "execution_count": 49,
     "metadata": {},
     "output_type": "execute_result"
    }
   ],
   "source": [
    "df['num_writers'].value_counts()"
   ]
  },
  {
   "cell_type": "code",
   "execution_count": 50,
   "metadata": {},
   "outputs": [
    {
     "data": {
      "text/plain": [
       "<matplotlib.axes._subplots.AxesSubplot at 0x19d80215ac8>"
      ]
     },
     "execution_count": 50,
     "metadata": {},
     "output_type": "execute_result"
    },
    {
     "data": {
      "image/png": "[encoded data removed]",
      "text/plain": [
       "<Figure size 432x288 with 1 Axes>"
      ]
     },
     "metadata": {
      "needs_background": "light"
     },
     "output_type": "display_data"
    }
   ],
   "source": [
    "sns.scatterplot(x='num_writers',y='production_budget',data=df)"
   ]
  },
  {
   "cell_type": "code",
   "execution_count": 43,
   "metadata": {},
   "outputs": [
    {
     "data": {
      "text/html": [
       "<div>\n",
       "<style scoped>\n",
       "    .dataframe tbody tr th:only-of-type {\n",
       "        vertical-align: middle;\n",
       "    }\n",
       "\n",
       "    .dataframe tbody tr th {\n",
       "        vertical-align: top;\n",
       "    }\n",
       "\n",
       "    .dataframe thead th {\n",
       "        text-align: right;\n",
       "    }\n",
       "</style>\n",
       "<table border=\"1\" class=\"dataframe\">\n",
       "  <thead>\n",
       "    <tr style=\"text-align: right;\">\n",
       "      <th></th>\n",
       "      <th>movie</th>\n",
       "      <th>domestic_gross</th>\n",
       "      <th>worldwide_gross</th>\n",
       "    </tr>\n",
       "    <tr>\n",
       "      <th>primary_name</th>\n",
       "      <th></th>\n",
       "      <th></th>\n",
       "      <th></th>\n",
       "    </tr>\n",
       "  </thead>\n",
       "  <tbody>\n",
       "    <tr>\n",
       "      <td>William Shakespeare</td>\n",
       "      <td>22</td>\n",
       "      <td>22</td>\n",
       "      <td>22</td>\n",
       "    </tr>\n",
       "    <tr>\n",
       "      <td>Jack Kirby</td>\n",
       "      <td>20</td>\n",
       "      <td>20</td>\n",
       "      <td>20</td>\n",
       "    </tr>\n",
       "    <tr>\n",
       "      <td>Stan Lee</td>\n",
       "      <td>19</td>\n",
       "      <td>19</td>\n",
       "      <td>19</td>\n",
       "    </tr>\n",
       "    <tr>\n",
       "      <td>Luc Besson</td>\n",
       "      <td>12</td>\n",
       "      <td>12</td>\n",
       "      <td>12</td>\n",
       "    </tr>\n",
       "    <tr>\n",
       "      <td>Nicholas Stoller</td>\n",
       "      <td>11</td>\n",
       "      <td>11</td>\n",
       "      <td>11</td>\n",
       "    </tr>\n",
       "    <tr>\n",
       "      <td>...</td>\n",
       "      <td>...</td>\n",
       "      <td>...</td>\n",
       "      <td>...</td>\n",
       "    </tr>\n",
       "    <tr>\n",
       "      <td>Hideo Oguni</td>\n",
       "      <td>1</td>\n",
       "      <td>1</td>\n",
       "      <td>1</td>\n",
       "    </tr>\n",
       "    <tr>\n",
       "      <td>Hilary Winston</td>\n",
       "      <td>1</td>\n",
       "      <td>1</td>\n",
       "      <td>1</td>\n",
       "    </tr>\n",
       "    <tr>\n",
       "      <td>Himesh Reshammiya</td>\n",
       "      <td>1</td>\n",
       "      <td>1</td>\n",
       "      <td>1</td>\n",
       "    </tr>\n",
       "    <tr>\n",
       "      <td>Hiroshi Sakurazaka</td>\n",
       "      <td>1</td>\n",
       "      <td>1</td>\n",
       "      <td>1</td>\n",
       "    </tr>\n",
       "    <tr>\n",
       "      <td>Ömür Atay</td>\n",
       "      <td>1</td>\n",
       "      <td>1</td>\n",
       "      <td>1</td>\n",
       "    </tr>\n",
       "  </tbody>\n",
       "</table>\n",
       "<p>4903 rows × 3 columns</p>\n",
       "</div>"
      ],
      "text/plain": [
       "                     movie  domestic_gross  worldwide_gross\n",
       "primary_name                                               \n",
       "William Shakespeare     22              22               22\n",
       "Jack Kirby              20              20               20\n",
       "Stan Lee                19              19               19\n",
       "Luc Besson              12              12               12\n",
       "Nicholas Stoller        11              11               11\n",
       "...                    ...             ...              ...\n",
       "Hideo Oguni              1               1                1\n",
       "Hilary Winston           1               1                1\n",
       "Himesh Reshammiya        1               1                1\n",
       "Hiroshi Sakurazaka       1               1                1\n",
       "Ömür Atay                1               1                1\n",
       "\n",
       "[4903 rows x 3 columns]"
      ]
     },
     "execution_count": 43,
     "metadata": {},
     "output_type": "execute_result"
    }
   ],
   "source": [
    "writer_count = writer_names_df.groupby('primary_name').count()\n",
    "writer_count.sort_values('movie',ascending=False)"
   ]
  },
  {
   "cell_type": "code",
   "execution_count": 28,
   "metadata": {},
   "outputs": [
    {
     "name": "stdout",
     "output_type": "stream",
     "text": [
      "<class 'pandas.core.frame.DataFrame'>\n",
      "RangeIndex: 3682 entries, 0 to 3681\n",
      "Data columns (total 4 columns):\n",
      "movie              3682 non-null object\n",
      "director           3682 non-null object\n",
      "domestic_gross     3682 non-null int64\n",
      "worldwide_gross    3682 non-null int64\n",
      "dtypes: int64(2), object(2)\n",
      "memory usage: 115.2+ KB\n"
     ]
    }
   ],
   "source": [
    "new_df = pd.DataFrame(df.directors.str.split(',').tolist(), index=df.tconst).stack()\n",
    "new_df = new_df.reset_index([0, 'tconst'])\n",
    "new_df.columns = ['tconst','director']\n",
    "\n",
    "\n",
    "q = \"\"\"SELECT movie, director, domestic_gross, worldwide_gross\n",
    "    FROM df\n",
    "    JOIN new_df\n",
    "    USING(tconst)\n",
    "    WHERE (domestic_gross > 0 OR worldwide_gross > 0) AND director != 'Missing director data';\"\"\"\n",
    "\n",
    "directors_df = sqldf(q)\n",
    "directors_df.info()"
   ]
  },
  {
   "cell_type": "code",
   "execution_count": 27,
   "metadata": {
    "scrolled": false
   },
   "outputs": [
    {
     "data": {
      "text/html": [
       "<div>\n",
       "<style scoped>\n",
       "    .dataframe tbody tr th:only-of-type {\n",
       "        vertical-align: middle;\n",
       "    }\n",
       "\n",
       "    .dataframe tbody tr th {\n",
       "        vertical-align: top;\n",
       "    }\n",
       "\n",
       "    .dataframe thead th {\n",
       "        text-align: right;\n",
       "    }\n",
       "</style>\n",
       "<table border=\"1\" class=\"dataframe\">\n",
       "  <thead>\n",
       "    <tr style=\"text-align: right;\">\n",
       "      <th></th>\n",
       "      <th>movie</th>\n",
       "      <th>primary_name</th>\n",
       "      <th>domestic_gross</th>\n",
       "      <th>worldwide_gross</th>\n",
       "    </tr>\n",
       "  </thead>\n",
       "  <tbody>\n",
       "    <tr>\n",
       "      <td>0</td>\n",
       "      <td>Foodfight!</td>\n",
       "      <td>Lawrence Kasanoff</td>\n",
       "      <td>0</td>\n",
       "      <td>73706</td>\n",
       "    </tr>\n",
       "    <tr>\n",
       "      <td>1</td>\n",
       "      <td>Mortal Kombat</td>\n",
       "      <td>Simon McQuoid</td>\n",
       "      <td>70433227</td>\n",
       "      <td>122133227</td>\n",
       "    </tr>\n",
       "    <tr>\n",
       "      <td>2</td>\n",
       "      <td>The Overnight</td>\n",
       "      <td>Jed I. Goodman</td>\n",
       "      <td>1109808</td>\n",
       "      <td>1165996</td>\n",
       "    </tr>\n",
       "    <tr>\n",
       "      <td>3</td>\n",
       "      <td>On the Road</td>\n",
       "      <td>Walter Salles</td>\n",
       "      <td>720828</td>\n",
       "      <td>9313302</td>\n",
       "    </tr>\n",
       "    <tr>\n",
       "      <td>4</td>\n",
       "      <td>The Secret Life of Walter Mitty</td>\n",
       "      <td>Ben Stiller</td>\n",
       "      <td>58236838</td>\n",
       "      <td>187861183</td>\n",
       "    </tr>\n",
       "    <tr>\n",
       "      <td>...</td>\n",
       "      <td>...</td>\n",
       "      <td>...</td>\n",
       "      <td>...</td>\n",
       "      <td>...</td>\n",
       "    </tr>\n",
       "    <tr>\n",
       "      <td>3677</td>\n",
       "      <td>Sisters</td>\n",
       "      <td>Prachya Pinkaew</td>\n",
       "      <td>87044645</td>\n",
       "      <td>106030660</td>\n",
       "    </tr>\n",
       "    <tr>\n",
       "      <td>3678</td>\n",
       "      <td>Ali</td>\n",
       "      <td>Ramazan Özer</td>\n",
       "      <td>58183966</td>\n",
       "      <td>87683966</td>\n",
       "    </tr>\n",
       "    <tr>\n",
       "      <td>3679</td>\n",
       "      <td>The Promise</td>\n",
       "      <td>Edwine Dorival</td>\n",
       "      <td>8224288</td>\n",
       "      <td>10551417</td>\n",
       "    </tr>\n",
       "    <tr>\n",
       "      <td>3680</td>\n",
       "      <td>Columbus</td>\n",
       "      <td>Hatef Alimardani</td>\n",
       "      <td>1017107</td>\n",
       "      <td>1110511</td>\n",
       "    </tr>\n",
       "    <tr>\n",
       "      <td>3681</td>\n",
       "      <td>Unstoppable</td>\n",
       "      <td>Nick Willing</td>\n",
       "      <td>81562942</td>\n",
       "      <td>165720921</td>\n",
       "    </tr>\n",
       "  </tbody>\n",
       "</table>\n",
       "<p>3682 rows × 4 columns</p>\n",
       "</div>"
      ],
      "text/plain": [
       "                                movie       primary_name  domestic_gross  \\\n",
       "0                          Foodfight!  Lawrence Kasanoff               0   \n",
       "1                       Mortal Kombat      Simon McQuoid        70433227   \n",
       "2                       The Overnight     Jed I. Goodman         1109808   \n",
       "3                         On the Road      Walter Salles          720828   \n",
       "4     The Secret Life of Walter Mitty        Ben Stiller        58236838   \n",
       "...                               ...                ...             ...   \n",
       "3677                          Sisters    Prachya Pinkaew        87044645   \n",
       "3678                              Ali       Ramazan Özer        58183966   \n",
       "3679                      The Promise     Edwine Dorival         8224288   \n",
       "3680                         Columbus   Hatef Alimardani         1017107   \n",
       "3681                      Unstoppable       Nick Willing        81562942   \n",
       "\n",
       "      worldwide_gross  \n",
       "0               73706  \n",
       "1           122133227  \n",
       "2             1165996  \n",
       "3             9313302  \n",
       "4           187861183  \n",
       "...               ...  \n",
       "3677        106030660  \n",
       "3678         87683966  \n",
       "3679         10551417  \n",
       "3680          1110511  \n",
       "3681        165720921  \n",
       "\n",
       "[3682 rows x 4 columns]"
      ]
     },
     "execution_count": 27,
     "metadata": {},
     "output_type": "execute_result"
    }
   ],
   "source": [
    "q = \"\"\"SELECT movie, primary_name, domestic_gross, worldwide_gross\n",
    "    FROM directors_df d\n",
    "    JOIN imdb_name_df name\n",
    "    ON d.director == name.nconst;\"\"\"\n",
    "\n",
    "director_names_df = sqldf(q)\n",
    "director_names_df"
   ]
  },
  {
   "cell_type": "code",
   "execution_count": 35,
   "metadata": {},
   "outputs": [
    {
     "data": {
      "text/html": [
       "<div>\n",
       "<style scoped>\n",
       "    .dataframe tbody tr th:only-of-type {\n",
       "        vertical-align: middle;\n",
       "    }\n",
       "\n",
       "    .dataframe tbody tr th {\n",
       "        vertical-align: top;\n",
       "    }\n",
       "\n",
       "    .dataframe thead th {\n",
       "        text-align: right;\n",
       "    }\n",
       "</style>\n",
       "<table border=\"1\" class=\"dataframe\">\n",
       "  <thead>\n",
       "    <tr style=\"text-align: right;\">\n",
       "      <th></th>\n",
       "      <th>movie</th>\n",
       "      <th>primary_name</th>\n",
       "      <th>domestic_gross</th>\n",
       "      <th>worldwide_gross</th>\n",
       "    </tr>\n",
       "  </thead>\n",
       "  <tbody>\n",
       "    <tr>\n",
       "      <td>1062</td>\n",
       "      <td>Avatar</td>\n",
       "      <td>Atsushi Wada</td>\n",
       "      <td>760507625</td>\n",
       "      <td>2776345279</td>\n",
       "    </tr>\n",
       "  </tbody>\n",
       "</table>\n",
       "</div>"
      ],
      "text/plain": [
       "       movie  primary_name  domestic_gross  worldwide_gross\n",
       "1062  Avatar  Atsushi Wada       760507625       2776345279"
      ]
     },
     "execution_count": 35,
     "metadata": {},
     "output_type": "execute_result"
    }
   ],
   "source": [
    "director_names_df[director_names_df['primary_name'] == 'Atsushi Wada']"
   ]
  },
  {
   "cell_type": "code",
   "execution_count": 39,
   "metadata": {},
   "outputs": [
    {
     "data": {
      "text/html": [
       "<div>\n",
       "<style scoped>\n",
       "    .dataframe tbody tr th:only-of-type {\n",
       "        vertical-align: middle;\n",
       "    }\n",
       "\n",
       "    .dataframe tbody tr th {\n",
       "        vertical-align: top;\n",
       "    }\n",
       "\n",
       "    .dataframe thead th {\n",
       "        text-align: right;\n",
       "    }\n",
       "</style>\n",
       "<table border=\"1\" class=\"dataframe\">\n",
       "  <thead>\n",
       "    <tr style=\"text-align: right;\">\n",
       "      <th></th>\n",
       "      <th>movie</th>\n",
       "      <th>domestic_gross</th>\n",
       "      <th>worldwide_gross</th>\n",
       "    </tr>\n",
       "    <tr>\n",
       "      <th>primary_name</th>\n",
       "      <th></th>\n",
       "      <th></th>\n",
       "      <th></th>\n",
       "    </tr>\n",
       "  </thead>\n",
       "  <tbody>\n",
       "    <tr>\n",
       "      <td>Tim Story</td>\n",
       "      <td>8</td>\n",
       "      <td>8</td>\n",
       "      <td>8</td>\n",
       "    </tr>\n",
       "    <tr>\n",
       "      <td>Steven Spielberg</td>\n",
       "      <td>8</td>\n",
       "      <td>8</td>\n",
       "      <td>8</td>\n",
       "    </tr>\n",
       "    <tr>\n",
       "      <td>Clint Eastwood</td>\n",
       "      <td>7</td>\n",
       "      <td>7</td>\n",
       "      <td>7</td>\n",
       "    </tr>\n",
       "    <tr>\n",
       "      <td>Jon M. Chu</td>\n",
       "      <td>6</td>\n",
       "      <td>6</td>\n",
       "      <td>6</td>\n",
       "    </tr>\n",
       "    <tr>\n",
       "      <td>Denis Villeneuve</td>\n",
       "      <td>6</td>\n",
       "      <td>6</td>\n",
       "      <td>6</td>\n",
       "    </tr>\n",
       "    <tr>\n",
       "      <td>...</td>\n",
       "      <td>...</td>\n",
       "      <td>...</td>\n",
       "      <td>...</td>\n",
       "    </tr>\n",
       "    <tr>\n",
       "      <td>Jack O'Donoghue</td>\n",
       "      <td>1</td>\n",
       "      <td>1</td>\n",
       "      <td>1</td>\n",
       "    </tr>\n",
       "    <tr>\n",
       "      <td>Jack Spring</td>\n",
       "      <td>1</td>\n",
       "      <td>1</td>\n",
       "      <td>1</td>\n",
       "    </tr>\n",
       "    <tr>\n",
       "      <td>Jackie Earle Haley</td>\n",
       "      <td>1</td>\n",
       "      <td>1</td>\n",
       "      <td>1</td>\n",
       "    </tr>\n",
       "    <tr>\n",
       "      <td>Jacob Ennis</td>\n",
       "      <td>1</td>\n",
       "      <td>1</td>\n",
       "      <td>1</td>\n",
       "    </tr>\n",
       "    <tr>\n",
       "      <td>Ömür Atay</td>\n",
       "      <td>1</td>\n",
       "      <td>1</td>\n",
       "      <td>1</td>\n",
       "    </tr>\n",
       "  </tbody>\n",
       "</table>\n",
       "<p>2992 rows × 3 columns</p>\n",
       "</div>"
      ],
      "text/plain": [
       "                    movie  domestic_gross  worldwide_gross\n",
       "primary_name                                              \n",
       "Tim Story               8               8                8\n",
       "Steven Spielberg        8               8                8\n",
       "Clint Eastwood          7               7                7\n",
       "Jon M. Chu              6               6                6\n",
       "Denis Villeneuve        6               6                6\n",
       "...                   ...             ...              ...\n",
       "Jack O'Donoghue         1               1                1\n",
       "Jack Spring             1               1                1\n",
       "Jackie Earle Haley      1               1                1\n",
       "Jacob Ennis             1               1                1\n",
       "Ömür Atay               1               1                1\n",
       "\n",
       "[2992 rows x 3 columns]"
      ]
     },
     "execution_count": 39,
     "metadata": {},
     "output_type": "execute_result"
    }
   ],
   "source": [
    "director_count = director_names_df.groupby('primary_name').count()\n",
    "director_count.sort_values('movie',ascending=False)"
   ]
  },
  {
   "cell_type": "code",
   "execution_count": 32,
   "metadata": {},
   "outputs": [],
   "source": [
    "director_median = director_names_df.groupby('primary_name').median()\n",
    "dom_gross = director_median.sort_values('domestic_gross',ascending=False).head(5)\n",
    "dom_gross['domestic_gross'] = dom_gross['domestic_gross'].map(lambda x:x/dom_gross['domestic_gross'].max())\n",
    "ww_gross = director_median.sort_values('worldwide_gross',ascending=False).head(5)\n",
    "ww_gross['worldwide_gross'] = ww_gross['worldwide_gross'].map(lambda x:x/ww_gross['domestic_gross'].max())"
   ]
  },
  {
   "cell_type": "code",
   "execution_count": 33,
   "metadata": {},
   "outputs": [
    {
     "data": {
      "text/plain": [
       "<matplotlib.axes._subplots.AxesSubplot at 0x19de4a41128>"
      ]
     },
     "execution_count": 33,
     "metadata": {},
     "output_type": "execute_result"
    },
    {
     "data": {
      "image/png": "[encoded data removed]",
      "text/plain": [
       "<Figure size 432x288 with 1 Axes>"
      ]
     },
     "metadata": {
      "needs_background": "light"
     },
     "output_type": "display_data"
    }
   ],
   "source": [
    "sns.barplot(x = dom_gross.index,y = dom_gross['domestic_gross'])"
   ]
  },
  {
   "cell_type": "code",
   "execution_count": 34,
   "metadata": {},
   "outputs": [
    {
     "data": {
      "text/plain": [
       "<matplotlib.axes._subplots.AxesSubplot at 0x19d8001e860>"
      ]
     },
     "execution_count": 34,
     "metadata": {},
     "output_type": "execute_result"
    },
    {
     "data": {
      "image/png": "[encoded data removed]",
      "text/plain": [
       "<Figure size 432x288 with 1 Axes>"
      ]
     },
     "metadata": {
      "needs_background": "light"
     },
     "output_type": "display_data"
    }
   ],
   "source": [
    "sns.barplot(x = ww_gross.index,y = ww_gross['worldwide_gross'])"
   ]
  },
  {
   "cell_type": "code",
   "execution_count": null,
   "metadata": {},
   "outputs": [],
   "source": []
  }
 ],
 "metadata": {
  "kernelspec": {
   "display_name": "Python [conda env:learn-env] *",
   "language": "python",
   "name": "conda-env-learn-env-py"
  },
  "language_info": {
   "codemirror_mode": {
    "name": "ipython",
    "version": 3
   },
   "file_extension": ".py",
   "mimetype": "text/x-python",
   "name": "python",
   "nbconvert_exporter": "python",
   "pygments_lexer": "ipython3",
   "version": "3.6.9"
  }
 },
 "nbformat": 4,
 "nbformat_minor": 2
}
