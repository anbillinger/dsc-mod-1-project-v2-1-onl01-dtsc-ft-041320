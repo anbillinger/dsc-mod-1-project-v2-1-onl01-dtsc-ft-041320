{
 "cells": [
  {
   "cell_type": "markdown",
   "metadata": {},
   "source": [
    "## Final Project Submission\n",
    "\n",
    "Please fill out:\n",
    "* Student name: \n",
    "* Student pace: self paced / part time / full time\n",
    "* Scheduled project review date/time: \n",
    "* Instructor name: \n",
    "* Blog post URL:\n"
   ]
  },
  {
   "cell_type": "code",
   "execution_count": 2,
   "metadata": {},
   "outputs": [],
   "source": [
    "import pandas as pd\n",
    "import seaborn as sns\n",
    "import numpy as np"
   ]
  },
  {
   "cell_type": "markdown",
   "metadata": {},
   "source": [
    "# Potential points of interest\n",
    "- ratings/budget/gross relationship\n",
    "- impact of length of movie\n",
    "- how will does each genre do?\n",
    "- rating of same movie between different review platforms, how does it relate to gross?"
   ]
  },
  {
   "cell_type": "code",
   "execution_count": 33,
   "metadata": {},
   "outputs": [],
   "source": [
    "#convert data sets to pandas dataframes\n",
    "imdb_basics_df = pd.read_csv('zippedData\\imdb.title.basics.csv.gz')\n",
    "imdb_ratings_df = pd.read_csv('zippedData\\imdb.title.ratings.csv.gz')\n",
    "rt_reviews_df = pd.read_csv('zippedData/rt.reviews.tsv.gz', compression='gzip',error_bad_lines=False, delimiter='\\t',encoding='ISO-8859-1')\n",
    "tmdb_df = pd.read_csv('zippedData/tmdb.movies.csv.gz')\n",
    "tn_budgets_df = pd.read_csv('zippedData/tn.movie_budgets.csv.gz')"
   ]
  },
  {
   "cell_type": "markdown",
   "metadata": {},
   "source": [
    "# IMDB Titles Basics\n",
    "Total rows of data: 146144<br>\n",
    "Column Names: tconst (primary key), primary_title, original_title, start_year, runtime_minutes, genres\n",
    "- 31739 NaN in 'runtime_minutes'\n",
    "- Mean: 86.187247 min, median: approx 87 min, chose median to fill NaN values\n",
    "- Mean after cleaning: 86.363758\n",
    "<br><br>\n",
    "- 5408 NaN in genres\n",
    "- Mode = Documentary at 32185\n",
    "- Not many out of total, but replacing with mode seems inaccurate\n",
    "- Will create a category of \"Genre Data Missing\"\n",
    "<br><br>\n",
    "- 21 NaN in original_title\n",
    "- Will fill with primary title"
   ]
  },
  {
   "cell_type": "code",
   "execution_count": 42,
   "metadata": {
    "scrolled": false
   },
   "outputs": [
    {
     "name": "stdout",
     "output_type": "stream",
     "text": [
      "IMDB title basics\n",
      "Index(['tconst', 'primary_title', 'original_title', 'start_year',\n",
      "       'runtime_minutes', 'genres'],\n",
      "      dtype='object')\n",
      "Number of entries: 146144 \n",
      "\n",
      "tconst             0\n",
      "primary_title      0\n",
      "original_title     0\n",
      "start_year         0\n",
      "runtime_minutes    0\n",
      "genres             0\n",
      "dtype: int64\n"
     ]
    }
   ],
   "source": [
    "#Clean IMDB basics runtime_minutes\n",
    "imdb_basics_df['runtime_minutes'].fillna(imdb_basics_df['runtime_minutes'].median(),inplace=True)\n",
    "#Clean IMDB basics genres\n",
    "imdb_basics_df['genres'].fillna('Genre Data Missing',inplace = True)\n",
    "#Clean IMDB basics original_title\n",
    "imdb_basics_df['original_title'].fillna(imdb_basics_df['primary_title'],inplace = True)\n",
    "\n",
    "print ('IMDB title basics')\n",
    "print(imdb_basics_df.columns)\n",
    "print('Number of entries:', len(imdb_basics_df),'\\n')\n",
    "print(imdb_basics_df.isna().sum())"
   ]
  },
  {
   "cell_type": "markdown",
   "metadata": {},
   "source": [
    "# IMDB Title Ratings\n",
    "Total Rows of Data: 73856<br>\n",
    "Column Names: tconst (primary key), averagerating, numvotes<br>\n",
    "No NaN values"
   ]
  },
  {
   "cell_type": "code",
   "execution_count": 43,
   "metadata": {},
   "outputs": [
    {
     "name": "stdout",
     "output_type": "stream",
     "text": [
      "IMDB title ratings\n",
      "       tconst  averagerating  numvotes\n",
      "0  tt10356526            8.3        31\n",
      "1  tt10384606            8.9       559\n",
      "2   tt1042974            6.4        20\n",
      "3   tt1043726            4.2     50352\n",
      "4   tt1060240            6.5        21\n",
      "\n",
      "Number of entries: 73856 \n",
      "\n",
      "tconst           0\n",
      "averagerating    0\n",
      "numvotes         0\n",
      "dtype: int64\n"
     ]
    }
   ],
   "source": [
    "print ('IMDB title ratings')\n",
    "print(imdb_ratings_df.head())\n",
    "print('\\nNumber of entries:',len(imdb_ratings_df),'\\n')\n",
    "print(imdb_ratings_df.isna().sum())"
   ]
  },
  {
   "cell_type": "markdown",
   "metadata": {},
   "source": [
    "# RT Reviews\n",
    "Number of rows: 54432<br>\n",
    "Column Names: id, review, rating, fresh, critic, top_critic, publisher, date\n",
    "\n",
    "- 13517 NaN in 'rating'"
   ]
  },
  {
   "cell_type": "code",
   "execution_count": 57,
   "metadata": {},
   "outputs": [
    {
     "name": "stdout",
     "output_type": "stream",
     "text": [
      "RT Reviews\n",
      "   id                                             review rating   fresh  \\\n",
      "0   3  A distinctly gallows take on contemporary fina...    3/5   fresh   \n",
      "1   3  It's an allegory in search of a meaning that n...    NaN  rotten   \n",
      "2   3  ... life lived in a bubble in financial dealin...    NaN   fresh   \n",
      "3   3  Continuing along a line introduced in last yea...    NaN   fresh   \n",
      "4   3             ... a perverse twist on neorealism...     NaN   fresh   \n",
      "\n",
      "           critic  top_critic         publisher               date  \n",
      "0      PJ Nabarro           0   Patrick Nabarro  November 10, 2018  \n",
      "1  Annalee Newitz           0           io9.com       May 23, 2018  \n",
      "2    Sean Axmaker           0  Stream on Demand    January 4, 2018  \n",
      "3   Daniel Kasman           0              MUBI  November 16, 2017  \n",
      "4             NaN           0      Cinema Scope   October 12, 2017  \n",
      "Index(['id', 'review', 'rating', 'fresh', 'critic', 'top_critic', 'publisher',\n",
      "       'date'],\n",
      "      dtype='object')\n",
      "\n",
      "Number of entries: 54432 \n",
      "\n",
      "id                0\n",
      "review         5563\n",
      "rating        13517\n",
      "fresh             0\n",
      "critic         2722\n",
      "top_critic        0\n",
      "publisher       309\n",
      "date              0\n",
      "dtype: int64\n"
     ]
    }
   ],
   "source": [
    "print ('RT Reviews')\n",
    "print(rt_reviews_df.head())\n",
    "print(rt_reviews_df.columns)\n",
    "print('\\nNumber of entries:',len(rt_reviews_df),'\\n')\n",
    "print(rt_reviews_df.isna().sum())"
   ]
  },
  {
   "cell_type": "markdown",
   "metadata": {},
   "source": [
    "# TMDB Movies\n",
    "Rows of data: 26517 <br>\n",
    "Column Names: genre_ids, id (primary key), original_language, original_title, popularity, release_date, title, vote_average, vote_count<br>\n",
    "Originally had extra column \"Unnamed: 0\" which was a duplicate of the index<br>\n",
    "No NaN values"
   ]
  },
  {
   "cell_type": "code",
   "execution_count": 59,
   "metadata": {},
   "outputs": [
    {
     "name": "stdout",
     "output_type": "stream",
     "text": [
      "TMDB\n",
      "             genre_ids     id original_language  \\\n",
      "0      [12, 14, 10751]  12444                en   \n",
      "1  [14, 12, 16, 10751]  10191                en   \n",
      "2        [12, 28, 878]  10138                en   \n",
      "3      [16, 35, 10751]    862                en   \n",
      "4        [28, 878, 12]  27205                en   \n",
      "\n",
      "                                 original_title  popularity release_date  \\\n",
      "0  Harry Potter and the Deathly Hallows: Part 1      33.533   2010-11-19   \n",
      "1                      How to Train Your Dragon      28.734   2010-03-26   \n",
      "2                                    Iron Man 2      28.515   2010-05-07   \n",
      "3                                     Toy Story      28.005   1995-11-22   \n",
      "4                                     Inception      27.920   2010-07-16   \n",
      "\n",
      "                                          title  vote_average  vote_count  \n",
      "0  Harry Potter and the Deathly Hallows: Part 1           7.7       10788  \n",
      "1                      How to Train Your Dragon           7.7        7610  \n",
      "2                                    Iron Man 2           6.8       12368  \n",
      "3                                     Toy Story           7.9       10174  \n",
      "4                                     Inception           8.3       22186  \n",
      "Index(['genre_ids', 'id', 'original_language', 'original_title', 'popularity',\n",
      "       'release_date', 'title', 'vote_average', 'vote_count'],\n",
      "      dtype='object')\n",
      "\n",
      "Number of entries: 26517 \n",
      "\n",
      "genre_ids            0\n",
      "id                   0\n",
      "original_language    0\n",
      "original_title       0\n",
      "popularity           0\n",
      "release_date         0\n",
      "title                0\n",
      "vote_average         0\n",
      "vote_count           0\n",
      "dtype: int64\n"
     ]
    }
   ],
   "source": [
    "tmdb_df.drop('Unnamed: 0',axis=1,inplace = True)\n",
    "print ('TMDB')\n",
    "print(tmdb_df.head())\n",
    "print(tmdb_df.columns)\n",
    "print('\\nNumber of entries:',len(tmdb_df),'\\n')\n",
    "print(tmdb_df.isna().sum())"
   ]
  },
  {
   "cell_type": "markdown",
   "metadata": {},
   "source": [
    "# TN Movie Budgets\n",
    "Rows of data: 5782<br>\n",
    "Column Names: id, release_date, movie, production_budget, domestic_gross, worldwide_gross<br>\n",
    "No NaNs<br>\n",
    "Production budget, domestic gross, and worldwide gross converted from strings to numeric values"
   ]
  },
  {
   "cell_type": "code",
   "execution_count": 79,
   "metadata": {},
   "outputs": [
    {
     "name": "stdout",
     "output_type": "stream",
     "text": [
      "TN Movie Budgets\n",
      "   id  release_date                                        movie  \\\n",
      "0   1  Dec 18, 2009                                       Avatar   \n",
      "1   2  May 20, 2011  Pirates of the Caribbean: On Stranger Tides   \n",
      "2   3   Jun 7, 2019                                 Dark Phoenix   \n",
      "3   4   May 1, 2015                      Avengers: Age of Ultron   \n",
      "4   5  Dec 15, 2017            Star Wars Ep. VIII: The Last Jedi   \n",
      "\n",
      "   production_budget  domestic_gross  worldwide_gross  \n",
      "0          425000000       760507625       2776345279  \n",
      "1          410600000       241063875       1045663875  \n",
      "2          350000000        42762350        149762350  \n",
      "3          330600000       459005868       1403013963  \n",
      "4          317000000       620181382       1316721747  \n",
      "Index(['id', 'release_date', 'movie', 'production_budget', 'domestic_gross',\n",
      "       'worldwide_gross'],\n",
      "      dtype='object')\n",
      "\n",
      "Number of entries: 5782 \n",
      "\n",
      "id                   0\n",
      "release_date         0\n",
      "movie                0\n",
      "production_budget    0\n",
      "domestic_gross       0\n",
      "worldwide_gross      0\n",
      "dtype: int64\n"
     ]
    }
   ],
   "source": [
    "money_list = ['production_budget','domestic_gross','worldwide_gross']\n",
    "for ser in money_list:\n",
    "    tn_budgets_df[ser] = tn_budgets_df[ser].apply(lambda x:x.replace(',',''))\n",
    "    tn_budgets_df[ser] = tn_budgets_df[ser].apply(lambda x:x.replace('$',''))\n",
    "    tn_budgets_df[ser] = pd.to_numeric(tn_budgets_df[ser])\n",
    "\n",
    "print ('TN Movie Budgets')\n",
    "print(tn_budgets_df.head())\n",
    "print(tn_budgets_df.columns)\n",
    "print('\\nNumber of entries:',len(tn_budgets_df),'\\n')\n",
    "print(tn_budgets_df.isna().sum())"
   ]
  },
  {
   "cell_type": "code",
   "execution_count": 76,
   "metadata": {},
   "outputs": [
    {
     "name": "stdout",
     "output_type": "stream",
     "text": [
      "<class 'pandas.core.frame.DataFrame'>\n",
      "RangeIndex: 5782 entries, 0 to 5781\n",
      "Data columns (total 6 columns):\n",
      "id                   5782 non-null int64\n",
      "release_date         5782 non-null object\n",
      "movie                5782 non-null object\n",
      "production_budget    5782 non-null int32\n",
      "domestic_gross       5782 non-null int32\n",
      "worldwide_gross      5782 non-null int64\n",
      "dtypes: int32(2), int64(2), object(2)\n",
      "memory usage: 226.0+ KB\n"
     ]
    }
   ],
   "source": [
    "tn_budgets_df.info()"
   ]
  }
 ],
 "metadata": {
  "kernelspec": {
   "display_name": "Python 3",
   "language": "python",
   "name": "python3"
  }
 },
 "nbformat": 4,
 "nbformat_minor": 2
}
